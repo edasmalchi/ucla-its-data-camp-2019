{
 "cells": [
  {
   "cell_type": "markdown",
   "metadata": {},
   "source": [
    "# Understanding SB 50 in LA, Part 1"
   ]
  },
  {
   "cell_type": "markdown",
   "metadata": {},
   "source": [
    "For this project, we are going to do our best to recreate the analysis performed by Urban Footprint and summarized in [this blog post](https://urbanfootprint.com/analyzing-sb-50/).\n",
    "\n",
    "Before getting started, make sure that you have the following packages installed: `pandas`, `geopandas`, `numpy`"
   ]
  },
  {
   "cell_type": "code",
   "execution_count": 1,
   "metadata": {},
   "outputs": [],
   "source": [
    "# TODO: Import pandas, geopandas, numpy\n",
    "import pandas as pd\n",
    "import numpy as np\n",
    "import geopandas as gpd\n"
   ]
  },
  {
   "cell_type": "markdown",
   "metadata": {},
   "source": [
    "### Pre-Exercise\n",
    "During the ITS Data Camp Course, we introduced you to the `folium` Python package to display interactive maps right in your browser, made possible because the folium package builds off the leaflet javascript package. For this exercise, we are going to continue to interactively explore spatial data, but we are going to use a different (but very similar) Python package called `ipyleaflet`, which has some additional functionality and plays a little bit better with GeoPandas DataFrames. Take a moment to read more about `ipyleaflet` [here](https://blog.jupyter.org/interactive-gis-in-jupyter-with-ipyleaflet-52f9657fa7a). You will notice that the article mentions `folium` toward the end in a comparison of similar packages.\n",
    "\n",
    "##### Install & Setup of ipyleaflet\n",
    "Follow the instructions (using the conda install) on the [documentation page](https://ipyleaflet.readthedocs.io/en/latest/installation.html#jupyterlab-extension). If you are having difficulty getting the map to appear in your notebook (with everything else loading correctly), take a look at this [SO question](https://gis.stackexchange.com/questions/303261/ipyleaflet-map-object-doesnt-display-in-jupyter-notebook-but-it-gets-created) for the command to enable the extension. You will run this command not in the notebook, but instead in the command prompt (OSX) / anaconda prompt (Windows).\n",
    "\n",
    "##### Test the Install\n",
    "We can confirm that the package was installed properly and the extension was enabled by running the following code, which should display a map with a single point in the middle."
   ]
  },
  {
   "cell_type": "markdown",
   "metadata": {},
   "source": [
    "*Didn't work at first, but restarting my jupyter notebook server showed it without having to run the command from SO –Eric* "
   ]
  },
  {
   "cell_type": "code",
   "execution_count": 2,
   "metadata": {},
   "outputs": [
    {
     "data": {
      "application/vnd.jupyter.widget-view+json": {
       "model_id": "489e3688ddcc460d99d299884b78938c",
       "version_major": 2,
       "version_minor": 0
      },
      "text/plain": [
       "Map(center=[34.052235, -118.243683], controls=(ZoomControl(options=['position', 'zoom_in_text', 'zoom_in_title…"
      ]
     },
     "metadata": {},
     "output_type": "display_data"
    }
   ],
   "source": [
    "from ipyleaflet import Map, Marker\n",
    "\n",
    "center=(34.052235,-118.243683)\n",
    "m = Map(center=center, zoom=10)\n",
    "marker = Marker(location=center, draggable=True)\n",
    "m.add_layer(marker);\n",
    "\n",
    "m"
   ]
  },
  {
   "cell_type": "markdown",
   "metadata": {},
   "source": [
    "## Transportation-Based Criteria\n",
    "Let's focus exclusively on service provided by LA Metro for now. There are two different ways that high-quality transit areas were defined in the legislation:\n",
    "1. 1/2 mile from any major rail stop\n",
    "2. 1/4 mile of any high-quality bus stop\n",
    "\n",
    "### Major Rail Stops\n",
    "\n",
    "##### Step 1: Import the Metro Rail Stops\n",
    "Let's start by getting the Metro Rail stops from the [LA City GeoHub](http://geohub.lacity.org/datasets/6679d1ccc3744a7f87f7855e7ce33395_1?geometry=-119.297%2C33.719%2C-117.230%2C34.118). Although we could simply download the data and import it into our folder, let's practice calling the API to get the data. Once you make a successful call, save it to our `data/raw` directory."
   ]
  },
  {
   "cell_type": "code",
   "execution_count": 3,
   "metadata": {},
   "outputs": [],
   "source": [
    "# TODO: Import requests & json packages\n",
    "import requests\n",
    "import json\n",
    "# TODO: Call the API to get the GeoJSON data, and save to 'data/raw'\n",
    "gjson = requests.get('https://opendata.arcgis.com/datasets/6679d1ccc3744a7f87f7855e7ce33395_1.geojson').json()\n",
    "#!mkdir data/raw\n",
    "with open('data/raw/metrorail.gjson', 'w') as outfile:\n",
    "    json.dump(gjson, outfile)"
   ]
  },
  {
   "cell_type": "markdown",
   "metadata": {},
   "source": [
    "##### Step 2: Convert to GeoPandas DataFrame\n",
    "Now that we have our data saved to disk, let's go ahead and read it back in and convert it to a GeoPandas dataframe. Because we are going to perform spatial manipulation, we need to make sure we first explicitly state our CRS and then convert it to an appropriate CRS for perform spatial manipulations (I recommend using NAD-83). Take a look at the GeoPandas documentation [here](http://geopandas.org/projections.html) for setting projections and re-projecting data.\n",
    "\n",
    "_For users experiencing an issue with projections: It is likely that somehow your conda installation provided you an older version of pyproj (which you can check). You may need to remove `pyproj` via `conda remove --force pyrpoj` and then reinstall it using pip to get pyproj 2.4.x_ "
   ]
  },
  {
   "cell_type": "code",
   "execution_count": 4,
   "metadata": {},
   "outputs": [],
   "source": [
    "# TODO: Read in to GeoPandas Dataframe\n",
    "rail_stops_gdf = gpd.read_file('data/raw/metrorail.gjson')"
   ]
  },
  {
   "cell_type": "code",
   "execution_count": 5,
   "metadata": {},
   "outputs": [
    {
     "data": {
      "text/html": [
       "<div>\n",
       "<style scoped>\n",
       "    .dataframe tbody tr th:only-of-type {\n",
       "        vertical-align: middle;\n",
       "    }\n",
       "\n",
       "    .dataframe tbody tr th {\n",
       "        vertical-align: top;\n",
       "    }\n",
       "\n",
       "    .dataframe thead th {\n",
       "        text-align: right;\n",
       "    }\n",
       "</style>\n",
       "<table border=\"1\" class=\"dataframe\">\n",
       "  <thead>\n",
       "    <tr style=\"text-align: right;\">\n",
       "      <th></th>\n",
       "      <th>OBJECTID</th>\n",
       "      <th>MetroLine</th>\n",
       "      <th>Station</th>\n",
       "      <th>StopNumber</th>\n",
       "      <th>TOOLTIP</th>\n",
       "      <th>NLA_URL</th>\n",
       "      <th>geometry</th>\n",
       "    </tr>\n",
       "  </thead>\n",
       "  <tbody>\n",
       "    <tr>\n",
       "      <th>0</th>\n",
       "      <td>1</td>\n",
       "      <td>Blue Line</td>\n",
       "      <td>Downtown Long Beach Station</td>\n",
       "      <td>80101</td>\n",
       "      <td>Stop: Downtown Long Beach Station\\nStop No: 80...</td>\n",
       "      <td>http://www.metro.net/riding/maps/blue-line/?nl...</td>\n",
       "      <td>POINT (-118.19292 33.76807)</td>\n",
       "    </tr>\n",
       "    <tr>\n",
       "      <th>1</th>\n",
       "      <td>2</td>\n",
       "      <td>Blue Line</td>\n",
       "      <td>Pacific Ave Station</td>\n",
       "      <td>80102</td>\n",
       "      <td>Stop: Pacific Ave Station\\nStop No: 80102\\nBlu...</td>\n",
       "      <td>http://www.metro.net/riding/maps/blue-line/?nl...</td>\n",
       "      <td>POINT (-118.19370 33.77226)</td>\n",
       "    </tr>\n",
       "    <tr>\n",
       "      <th>2</th>\n",
       "      <td>3</td>\n",
       "      <td>Blue Line</td>\n",
       "      <td>Anaheim Street Station</td>\n",
       "      <td>80105</td>\n",
       "      <td>Stop: Anaheim Street Station\\nStop No: 80105\\n...</td>\n",
       "      <td>http://www.metro.net/riding/maps/blue-line/?nl...</td>\n",
       "      <td>POINT (-118.18938 33.78183)</td>\n",
       "    </tr>\n",
       "    <tr>\n",
       "      <th>3</th>\n",
       "      <td>4</td>\n",
       "      <td>Blue Line</td>\n",
       "      <td>Pacific Coast Hwy Station</td>\n",
       "      <td>80106</td>\n",
       "      <td>Stop: Pacific Coast Hwy Station\\nStop No: 8010...</td>\n",
       "      <td>http://www.metro.net/riding/maps/blue-line/?nl...</td>\n",
       "      <td>POINT (-118.18938 33.78909)</td>\n",
       "    </tr>\n",
       "    <tr>\n",
       "      <th>4</th>\n",
       "      <td>5</td>\n",
       "      <td>Blue Line</td>\n",
       "      <td>Willow Street Station</td>\n",
       "      <td>80107</td>\n",
       "      <td>Stop: Willow Street Station\\nStop No: 80107\\nB...</td>\n",
       "      <td>http://www.metro.net/riding/maps/blue-line/?nl...</td>\n",
       "      <td>POINT (-118.18983 33.80708)</td>\n",
       "    </tr>\n",
       "  </tbody>\n",
       "</table>\n",
       "</div>"
      ],
      "text/plain": [
       "   OBJECTID  MetroLine                      Station  StopNumber  \\\n",
       "0         1  Blue Line  Downtown Long Beach Station       80101   \n",
       "1         2  Blue Line          Pacific Ave Station       80102   \n",
       "2         3  Blue Line       Anaheim Street Station       80105   \n",
       "3         4  Blue Line    Pacific Coast Hwy Station       80106   \n",
       "4         5  Blue Line        Willow Street Station       80107   \n",
       "\n",
       "                                             TOOLTIP  \\\n",
       "0  Stop: Downtown Long Beach Station\\nStop No: 80...   \n",
       "1  Stop: Pacific Ave Station\\nStop No: 80102\\nBlu...   \n",
       "2  Stop: Anaheim Street Station\\nStop No: 80105\\n...   \n",
       "3  Stop: Pacific Coast Hwy Station\\nStop No: 8010...   \n",
       "4  Stop: Willow Street Station\\nStop No: 80107\\nB...   \n",
       "\n",
       "                                             NLA_URL  \\\n",
       "0  http://www.metro.net/riding/maps/blue-line/?nl...   \n",
       "1  http://www.metro.net/riding/maps/blue-line/?nl...   \n",
       "2  http://www.metro.net/riding/maps/blue-line/?nl...   \n",
       "3  http://www.metro.net/riding/maps/blue-line/?nl...   \n",
       "4  http://www.metro.net/riding/maps/blue-line/?nl...   \n",
       "\n",
       "                      geometry  \n",
       "0  POINT (-118.19292 33.76807)  \n",
       "1  POINT (-118.19370 33.77226)  \n",
       "2  POINT (-118.18938 33.78183)  \n",
       "3  POINT (-118.18938 33.78909)  \n",
       "4  POINT (-118.18983 33.80708)  "
      ]
     },
     "execution_count": 5,
     "metadata": {},
     "output_type": "execute_result"
    }
   ],
   "source": [
    "# TODO: Examine the DF head to make sure it read in correctly\n",
    "rail_stops_gdf.head()"
   ]
  },
  {
   "cell_type": "code",
   "execution_count": 6,
   "metadata": {},
   "outputs": [
    {
     "data": {
      "text/plain": [
       "<Geographic 2D CRS: EPSG:4326>\n",
       "Name: WGS 84\n",
       "Axis Info [ellipsoidal]:\n",
       "- Lat[north]: Geodetic latitude (degree)\n",
       "- Lon[east]: Geodetic longitude (degree)\n",
       "Area of Use:\n",
       "- name: World\n",
       "- bounds: (-180.0, -90.0, 180.0, 90.0)\n",
       "Datum: World Geodetic System 1984\n",
       "- Ellipsoid: WGS 84\n",
       "- Prime Meridian: Greenwich"
      ]
     },
     "execution_count": 6,
     "metadata": {},
     "output_type": "execute_result"
    }
   ],
   "source": [
    "# TODO: Examine current CRS\n",
    "rail_stops_gdf.crs"
   ]
  },
  {
   "cell_type": "code",
   "execution_count": 7,
   "metadata": {},
   "outputs": [],
   "source": [
    "# TODO: Re-Project to NAD83\n",
    "#went with this one https://spatialreference.org/ref/epsg/2229/ \n",
    "rail_stops_nad83 = rail_stops_gdf.to_crs('EPSG:2229')"
   ]
  },
  {
   "cell_type": "code",
   "execution_count": 8,
   "metadata": {},
   "outputs": [
    {
     "data": {
      "text/plain": [
       "<Projected CRS: EPSG:2229>\n",
       "Name: NAD83 / California zone 5 (ftUS)\n",
       "Axis Info [cartesian]:\n",
       "- X[east]: Easting (US survey foot)\n",
       "- Y[north]: Northing (US survey foot)\n",
       "Area of Use:\n",
       "- name: USA - California - SPCS83 - 5\n",
       "- bounds: (-121.42, 32.76, -114.12, 35.81)\n",
       "Coordinate Operation:\n",
       "- name: SPCS83 California zone 5 (US Survey feet)\n",
       "- method: Lambert Conic Conformal (2SP)\n",
       "Datum: North American Datum 1983\n",
       "- Ellipsoid: GRS 1980\n",
       "- Prime Meridian: Greenwich"
      ]
     },
     "execution_count": 8,
     "metadata": {},
     "output_type": "execute_result"
    }
   ],
   "source": [
    "rail_stops_nad83.crs"
   ]
  },
  {
   "cell_type": "markdown",
   "metadata": {},
   "source": [
    "##### Step 3: Buffer 1/2 mile\n",
    "Now that we've re-projected our data, we can go ahead and perform spatial manipulations. Let's create a 1/2 mile buffer around each of the rail stops. _(Pro tip: Each CRS has it's own unit of measurement. Make sure you keep track of what you are currently using!)_ Once we do this, we are going to project it back to WGS84 so that we display it in our map below. We will also want to make sure we save to disk at `data/processed` so that we have it if needed later. "
   ]
  },
  {
   "cell_type": "code",
   "execution_count": 9,
   "metadata": {},
   "outputs": [
    {
     "name": "stdout",
     "output_type": "stream",
     "text": [
      "mkdir: data/processed: File exists\r\n"
     ]
    }
   ],
   "source": [
    "# TODO: buffer 1/2 mi\n",
    "# You could have used either ft or m, as long as it aligns with your CRS\n",
    "rail_stops_halfmi_buff = rail_stops_nad83['geometry'].buffer(2640)\n",
    "\n",
    "# TODO: Add original rail data to buffer\n",
    "rail_stops_nad83.geometry = rail_stops_halfmi_buff\n",
    "\n",
    "# TODO: Re-project back to WGS84 for map display\n",
    "rail_stop_buff_wgs84 = rail_stops_nad83.to_crs('EPSG:4326')\n",
    "\n",
    "# TODO: Write out to data/processed\n",
    "!mkdir data/processed\n",
    "rail_stop_buff_wgs84.to_file('data/processed/metro_rail_stops_buffered.geojson', driver='GeoJSON')"
   ]
  },
  {
   "cell_type": "markdown",
   "metadata": {},
   "source": [
    "*I was very confused as to why my buffer was ~3x what it should be, until I realized I must have ran the cell multiple times and the way it's set up the buffer will increment each time! Perhaps most people won't run into this issue, but could structure the cell to be more robust, as below. -Eric*"
   ]
  },
  {
   "cell_type": "code",
   "execution_count": 10,
   "metadata": {},
   "outputs": [
    {
     "name": "stdout",
     "output_type": "stream",
     "text": [
      "mkdir: data/processed: File exists\r\n"
     ]
    }
   ],
   "source": [
    "# TODO: buffer 1/2 mi\n",
    "# You could have used either ft or m, as long as it aligns with your CRS\n",
    "\n",
    "# Basing the buffer on a freshly reprojected geometry is one option to avoid the circular reference/unwanted increment\n",
    "rail_stops_halfmi_buff = rail_stops_gdf.to_crs('EPSG:2229')['geometry'].buffer(2640)\n",
    "\n",
    "# TODO: Add original rail data to buffer\n",
    "rail_stops_nad83.geometry = rail_stops_halfmi_buff\n",
    "\n",
    "# TODO: Re-project back to WGS84 for map display\n",
    "rail_stop_buff_wgs84 = rail_stops_nad83.to_crs('EPSG:4326')\n",
    "\n",
    "# TODO: Write out to data/processed\n",
    "!mkdir data/processed\n",
    "rail_stop_buff_wgs84.to_file('data/processed/metro_rail_stops_buffered.geojson', driver='GeoJSON')"
   ]
  },
  {
   "cell_type": "code",
   "execution_count": 11,
   "metadata": {},
   "outputs": [
    {
     "data": {
      "text/html": [
       "<div>\n",
       "<style scoped>\n",
       "    .dataframe tbody tr th:only-of-type {\n",
       "        vertical-align: middle;\n",
       "    }\n",
       "\n",
       "    .dataframe tbody tr th {\n",
       "        vertical-align: top;\n",
       "    }\n",
       "\n",
       "    .dataframe thead th {\n",
       "        text-align: right;\n",
       "    }\n",
       "</style>\n",
       "<table border=\"1\" class=\"dataframe\">\n",
       "  <thead>\n",
       "    <tr style=\"text-align: right;\">\n",
       "      <th></th>\n",
       "      <th>OBJECTID</th>\n",
       "      <th>MetroLine</th>\n",
       "      <th>Station</th>\n",
       "      <th>StopNumber</th>\n",
       "      <th>TOOLTIP</th>\n",
       "      <th>NLA_URL</th>\n",
       "      <th>geometry</th>\n",
       "    </tr>\n",
       "  </thead>\n",
       "  <tbody>\n",
       "    <tr>\n",
       "      <th>0</th>\n",
       "      <td>1</td>\n",
       "      <td>Blue Line</td>\n",
       "      <td>Downtown Long Beach Station</td>\n",
       "      <td>80101</td>\n",
       "      <td>Stop: Downtown Long Beach Station\\nStop No: 80...</td>\n",
       "      <td>http://www.metro.net/riding/maps/blue-line/?nl...</td>\n",
       "      <td>POLYGON ((-118.18424 33.76808, -118.18428 33.7...</td>\n",
       "    </tr>\n",
       "    <tr>\n",
       "      <th>1</th>\n",
       "      <td>2</td>\n",
       "      <td>Blue Line</td>\n",
       "      <td>Pacific Ave Station</td>\n",
       "      <td>80102</td>\n",
       "      <td>Stop: Pacific Ave Station\\nStop No: 80102\\nBlu...</td>\n",
       "      <td>http://www.metro.net/riding/maps/blue-line/?nl...</td>\n",
       "      <td>POLYGON ((-118.18501 33.77227, -118.18505 33.7...</td>\n",
       "    </tr>\n",
       "    <tr>\n",
       "      <th>2</th>\n",
       "      <td>3</td>\n",
       "      <td>Blue Line</td>\n",
       "      <td>Anaheim Street Station</td>\n",
       "      <td>80105</td>\n",
       "      <td>Stop: Anaheim Street Station\\nStop No: 80105\\n...</td>\n",
       "      <td>http://www.metro.net/riding/maps/blue-line/?nl...</td>\n",
       "      <td>POLYGON ((-118.18070 33.78184, -118.18074 33.7...</td>\n",
       "    </tr>\n",
       "    <tr>\n",
       "      <th>3</th>\n",
       "      <td>4</td>\n",
       "      <td>Blue Line</td>\n",
       "      <td>Pacific Coast Hwy Station</td>\n",
       "      <td>80106</td>\n",
       "      <td>Stop: Pacific Coast Hwy Station\\nStop No: 8010...</td>\n",
       "      <td>http://www.metro.net/riding/maps/blue-line/?nl...</td>\n",
       "      <td>POLYGON ((-118.18069 33.78910, -118.18073 33.7...</td>\n",
       "    </tr>\n",
       "    <tr>\n",
       "      <th>4</th>\n",
       "      <td>5</td>\n",
       "      <td>Blue Line</td>\n",
       "      <td>Willow Street Station</td>\n",
       "      <td>80107</td>\n",
       "      <td>Stop: Willow Street Station\\nStop No: 80107\\nB...</td>\n",
       "      <td>http://www.metro.net/riding/maps/blue-line/?nl...</td>\n",
       "      <td>POLYGON ((-118.18114 33.80709, -118.18118 33.8...</td>\n",
       "    </tr>\n",
       "  </tbody>\n",
       "</table>\n",
       "</div>"
      ],
      "text/plain": [
       "   OBJECTID  MetroLine                      Station  StopNumber  \\\n",
       "0         1  Blue Line  Downtown Long Beach Station       80101   \n",
       "1         2  Blue Line          Pacific Ave Station       80102   \n",
       "2         3  Blue Line       Anaheim Street Station       80105   \n",
       "3         4  Blue Line    Pacific Coast Hwy Station       80106   \n",
       "4         5  Blue Line        Willow Street Station       80107   \n",
       "\n",
       "                                             TOOLTIP  \\\n",
       "0  Stop: Downtown Long Beach Station\\nStop No: 80...   \n",
       "1  Stop: Pacific Ave Station\\nStop No: 80102\\nBlu...   \n",
       "2  Stop: Anaheim Street Station\\nStop No: 80105\\n...   \n",
       "3  Stop: Pacific Coast Hwy Station\\nStop No: 8010...   \n",
       "4  Stop: Willow Street Station\\nStop No: 80107\\nB...   \n",
       "\n",
       "                                             NLA_URL  \\\n",
       "0  http://www.metro.net/riding/maps/blue-line/?nl...   \n",
       "1  http://www.metro.net/riding/maps/blue-line/?nl...   \n",
       "2  http://www.metro.net/riding/maps/blue-line/?nl...   \n",
       "3  http://www.metro.net/riding/maps/blue-line/?nl...   \n",
       "4  http://www.metro.net/riding/maps/blue-line/?nl...   \n",
       "\n",
       "                                            geometry  \n",
       "0  POLYGON ((-118.18424 33.76808, -118.18428 33.7...  \n",
       "1  POLYGON ((-118.18501 33.77227, -118.18505 33.7...  \n",
       "2  POLYGON ((-118.18070 33.78184, -118.18074 33.7...  \n",
       "3  POLYGON ((-118.18069 33.78910, -118.18073 33.7...  \n",
       "4  POLYGON ((-118.18114 33.80709, -118.18118 33.8...  "
      ]
     },
     "execution_count": 11,
     "metadata": {},
     "output_type": "execute_result"
    }
   ],
   "source": [
    "# View the head of the table and confirm that the geometry is showing POLYGON instead of POINT\n",
    "rail_stop_buff_wgs84.head()"
   ]
  },
  {
   "cell_type": "markdown",
   "metadata": {},
   "source": [
    "Let's confirm that the buffer looks correct by displaying it (along with the rail stops) on the map, following the example [here](https://ipyleaflet.readthedocs.io/en/latest/api_reference/geodata.html). You should see circle polygons that look to have a radius of about 1/2 mi.  "
   ]
  },
  {
   "cell_type": "code",
   "execution_count": 13,
   "metadata": {},
   "outputs": [
    {
     "data": {
      "application/vnd.jupyter.widget-view+json": {
       "model_id": "2c3ad8f3b41b43dda3a625672171d0d0",
       "version_major": 2,
       "version_minor": 0
      },
      "text/plain": [
       "Map(center=[34, -118], controls=(ZoomControl(options=['position', 'zoom_in_text', 'zoom_in_title', 'zoom_out_t…"
      ]
     },
     "metadata": {},
     "output_type": "display_data"
    }
   ],
   "source": [
    "# TODO: Display on map\n",
    "from ipyleaflet import Map, GeoData, basemaps, LayersControl\n",
    "\n",
    "m = Map(center=(34, -118), zoom = 10, basemap= basemaps.Esri.WorldTopoMap)\n",
    "\n",
    "geo_data = GeoData(geo_dataframe = rail_stop_buff_wgs84,\n",
    "                   style={'color': 'black', 'fillColor': '#3366cc', 'opacity':0.05, 'weight':1.9, 'dashArray':'2', 'fillOpacity':0.6},\n",
    "                   hover_style={'fillColor': 'red' , 'fillOpacity': 0.2},\n",
    "                   name = 'Rail Stops')\n",
    "\n",
    "m.add_layer(geo_data)\n",
    "m.add_control(LayersControl())\n",
    "\n",
    "m"
   ]
  },
  {
   "cell_type": "markdown",
   "metadata": {},
   "source": [
    "Nice work! Let's move on to high-quality bus corridors."
   ]
  },
  {
   "cell_type": "markdown",
   "metadata": {},
   "source": [
    "### High Quality Bus Corridors\n",
    "In addition to looking at neighborhoods surrounding rail stops, the legislation also allows for additional density near \"high-quality bus stops\". We will use Urban Footprint's definition of High Quality Bus Corridor as having the following criteria:\n",
    "- less than a 10-minute average headway for three consecutive hours during the morning peak, from 6 to 10 AM, and the evening peak, from 3 to 7 PM.\n",
    "- maintain an average headway below 20 minutes over the course of a weekday from 6 AM to 10 PM and an average headway below 30 minutes on weekends\n",
    "  \n",
    "Because this definition is a bit trickier, we are going to look a bit deeper through Metro's GTFS data. GTFS is a standard developed by Google showing scheduled _(not realtime)_ data. [TransitWiki](https://www.transitwiki.org/TransitWiki/index.php/General_Transit_Feed_Specification) and the [Google developers page](https://developers.google.com/transit/gtfs/) both provide a good overview of the GTFS standard; take some time to look through the documentation on each. Metro provides it's own GTFS data for easy consumption [here](http://developer.metro.net/gtfs-schedule-data/), with a README containing information on each archive.\n",
    "\n",
    "##### Working with GTFS Data\n",
    "There have been numerous development efforts (in multiple programming languages) that make it easier to ingest, analyze, view, and produce GTFS data, many of which you can see [here](https://github.com/CUTR-at-USF/awesome-transit). We will [use] one of the [GTFS libraries](https://github.com/CUTR-at-USF/awesome-transit#gtfs-libraries) to help with the ingestion of our data, but the rest we will do using `GeoPandas`. For this exercise we will be specifically focused on calculating frequency, but feel free to also explore the myriad of tools that have been developed to look at GTFS with another objective in mind.\n",
    "\n",
    "##### Our Plan\n",
    "Transit agencies _may_ optionally publish a table called `frequencies.txt`, which makes it fairly easy to calculate the average frequency at the peak hours. However, you will notice that Metro's archive doesn't contain that file, which means we will need to calculate it ourselves.\n",
    "\n",
    "While looking through [Metro's bus GTFS data](http://developer.metro.net/gtfs-schedule-data/), we decide we are interested in 3 tables: \n",
    "- `trips`: This specifies which routes are bus routes. This is our starting point.\n",
    "- `stop_times`: Combined with trips, we will calculate the arrival frequency using the criteria above to determine the High Quality Routes\n",
    "- `stops`: Once we determine the High Quality Bus Routes, we will want to create the 1/4 mile buffer around the stops\n",
    "\n",
    "##### Step 1: Install `partridge` package\n",
    "We will use the `partridge` package for lightweight parsing of GTFS files (to keep memory overhead low) into `GeoPandas` dataframes that we can then work on for further analysis. Follow the install instructions [here](https://github.com/remix/partridge)."
   ]
  },
  {
   "cell_type": "markdown",
   "metadata": {},
   "source": [
    "##### Step 2: Download Data, Get busiest day\n",
    "Begin by downloading the entire LA Metro Bus GTFS zipped file to `data/raw/gtfs_bus-master.zip`. You will notice that the entire size of the folder is around 40MB zipped (and 237MB unzipped!). Whlie data of that size is not an issue storing on disk, loading all of it into [memory (RAM)](https://www.backblaze.com/blog/whats-diff-ram-vs-storage/) will be wasteful and unnecessary. We won't need to unzip the file as `partridge` is designed to directly read from zipped directories.\n",
    "\n",
    "We are going to use `partridge` to get the service IDs that are associated with the busiest day in the GTFS feed."
   ]
  },
  {
   "cell_type": "code",
   "execution_count": 16,
   "metadata": {},
   "outputs": [],
   "source": [
    "# Import partridge package\n",
    "import partridge as ptg\n",
    "\n",
    "# TODO: Set inpath to zipped directory\n",
    "inpath = 'data/raw/gtfs_bus-master.zip'\n",
    "\n",
    "# TODO: follow partridge package quickstart example \n",
    "#       to get date, service_ids for the busiest day\n",
    "date, service_ids = ptg.read_busiest_date(inpath)\n",
    "#Specify view using service_ids from busiest day\n",
    "view = {'trips.txt': {'service_id': service_ids}}\n",
    "#Load GTFS feed filtered to service IDs that are associated with the busiest day\n",
    "feed = ptg.load_feed(inpath, view)"
   ]
  },
  {
   "cell_type": "markdown",
   "metadata": {},
   "source": [
    "#### Could use more detailed instructions here, maybe specifically refer to 'Extracting a new feed' section.\n",
    "Also some may not get that the 'quickstart example' simply refers to the same readme as the install instructions -Eric"
   ]
  },
  {
   "cell_type": "markdown",
   "metadata": {},
   "source": [
    "Let's see what's in this (now filtered) feed."
   ]
  },
  {
   "cell_type": "markdown",
   "metadata": {},
   "source": [
    "*This probably won't be intuitive to people without at least a basic understanding of attributes -Eric*"
   ]
  },
  {
   "cell_type": "code",
   "execution_count": 17,
   "metadata": {},
   "outputs": [
    {
     "name": "stdout",
     "output_type": "stream",
     "text": [
      "['__class__', '__delattr__', '__dict__', '__dir__', '__doc__', '__eq__', '__format__', '__ge__', '__getattribute__', '__gt__', '__hash__', '__init__', '__init_subclass__', '__le__', '__lt__', '__module__', '__ne__', '__new__', '__reduce__', '__reduce_ex__', '__repr__', '__setattr__', '__sizeof__', '__str__', '__subclasshook__', '__weakref__', '_bootstrap', '_cache', '_config', '_convert_types', '_delete_after_reading', '_filter', '_locks', '_pathmap', '_prune', '_read', '_read_csv', '_shared_lock', '_transform', '_view', 'agency', 'calendar', 'calendar_dates', 'fare_attributes', 'fare_rules', 'feed_info', 'frequencies', 'get', 'routes', 'set', 'shapes', 'stop_times', 'stops', 'transfers', 'trips']\n"
     ]
    }
   ],
   "source": [
    "# Print contents of the feed\n",
    "print([i for i in dir(feed)])"
   ]
  },
  {
   "cell_type": "code",
   "execution_count": 18,
   "metadata": {},
   "outputs": [
    {
     "data": {
      "text/html": [
       "<div>\n",
       "<style scoped>\n",
       "    .dataframe tbody tr th:only-of-type {\n",
       "        vertical-align: middle;\n",
       "    }\n",
       "\n",
       "    .dataframe tbody tr th {\n",
       "        vertical-align: top;\n",
       "    }\n",
       "\n",
       "    .dataframe thead th {\n",
       "        text-align: right;\n",
       "    }\n",
       "</style>\n",
       "<table border=\"1\" class=\"dataframe\">\n",
       "  <thead>\n",
       "    <tr style=\"text-align: right;\">\n",
       "      <th></th>\n",
       "      <th>agency_id</th>\n",
       "      <th>agency_name</th>\n",
       "      <th>agency_url</th>\n",
       "      <th>agency_timezone</th>\n",
       "      <th>agency_lang</th>\n",
       "      <th>agency_phone</th>\n",
       "    </tr>\n",
       "  </thead>\n",
       "  <tbody>\n",
       "    <tr>\n",
       "      <th>0</th>\n",
       "      <td>LACMTA</td>\n",
       "      <td>Metro - Los Angeles</td>\n",
       "      <td>https://www.metro.net</td>\n",
       "      <td>America/Los_Angeles</td>\n",
       "      <td>en</td>\n",
       "      <td>(323)466-3876</td>\n",
       "    </tr>\n",
       "  </tbody>\n",
       "</table>\n",
       "</div>"
      ],
      "text/plain": [
       "  agency_id          agency_name             agency_url      agency_timezone  \\\n",
       "0    LACMTA  Metro - Los Angeles  https://www.metro.net  America/Los_Angeles   \n",
       "\n",
       "  agency_lang   agency_phone  \n",
       "0          en  (323)466-3876  "
      ]
     },
     "execution_count": 18,
     "metadata": {},
     "output_type": "execute_result"
    }
   ],
   "source": [
    "feed.agency"
   ]
  },
  {
   "cell_type": "code",
   "execution_count": 16,
   "metadata": {},
   "outputs": [
    {
     "data": {
      "text/html": [
       "<div>\n",
       "<style scoped>\n",
       "    .dataframe tbody tr th:only-of-type {\n",
       "        vertical-align: middle;\n",
       "    }\n",
       "\n",
       "    .dataframe tbody tr th {\n",
       "        vertical-align: top;\n",
       "    }\n",
       "\n",
       "    .dataframe thead th {\n",
       "        text-align: right;\n",
       "    }\n",
       "</style>\n",
       "<table border=\"1\" class=\"dataframe\">\n",
       "  <thead>\n",
       "    <tr style=\"text-align: right;\">\n",
       "      <th></th>\n",
       "      <th>trip_id</th>\n",
       "      <th>arrival_time</th>\n",
       "      <th>departure_time</th>\n",
       "      <th>stop_id</th>\n",
       "      <th>stop_sequence</th>\n",
       "      <th>stop_headsign</th>\n",
       "      <th>pickup_type</th>\n",
       "      <th>drop_off_type</th>\n",
       "    </tr>\n",
       "  </thead>\n",
       "  <tbody>\n",
       "    <tr>\n",
       "      <th>0</th>\n",
       "      <td>49404780-DEC19-D05CAR-1_Weekday</td>\n",
       "      <td>76200.0</td>\n",
       "      <td>76200.0</td>\n",
       "      <td>30006</td>\n",
       "      <td>1</td>\n",
       "      <td>102 - Huntington Park - Palm - Seville</td>\n",
       "      <td>0</td>\n",
       "      <td>0</td>\n",
       "    </tr>\n",
       "    <tr>\n",
       "      <th>1</th>\n",
       "      <td>49404780-DEC19-D05CAR-1_Weekday</td>\n",
       "      <td>76260.0</td>\n",
       "      <td>76260.0</td>\n",
       "      <td>7437</td>\n",
       "      <td>2</td>\n",
       "      <td>102 - Huntington Park - Palm - Seville</td>\n",
       "      <td>0</td>\n",
       "      <td>0</td>\n",
       "    </tr>\n",
       "    <tr>\n",
       "      <th>2</th>\n",
       "      <td>49404780-DEC19-D05CAR-1_Weekday</td>\n",
       "      <td>76320.0</td>\n",
       "      <td>76320.0</td>\n",
       "      <td>6134</td>\n",
       "      <td>3</td>\n",
       "      <td>102 - Huntington Park - Palm - Seville</td>\n",
       "      <td>0</td>\n",
       "      <td>0</td>\n",
       "    </tr>\n",
       "    <tr>\n",
       "      <th>3</th>\n",
       "      <td>49404780-DEC19-D05CAR-1_Weekday</td>\n",
       "      <td>76380.0</td>\n",
       "      <td>76380.0</td>\n",
       "      <td>36554</td>\n",
       "      <td>4</td>\n",
       "      <td>102 - Huntington Park - Palm - Seville</td>\n",
       "      <td>0</td>\n",
       "      <td>0</td>\n",
       "    </tr>\n",
       "    <tr>\n",
       "      <th>4</th>\n",
       "      <td>49404780-DEC19-D05CAR-1_Weekday</td>\n",
       "      <td>76440.0</td>\n",
       "      <td>76440.0</td>\n",
       "      <td>36555</td>\n",
       "      <td>5</td>\n",
       "      <td>102 - Huntington Park - Palm - Seville</td>\n",
       "      <td>0</td>\n",
       "      <td>0</td>\n",
       "    </tr>\n",
       "  </tbody>\n",
       "</table>\n",
       "</div>"
      ],
      "text/plain": [
       "                           trip_id  arrival_time  departure_time stop_id  \\\n",
       "0  49404780-DEC19-D05CAR-1_Weekday       76200.0         76200.0   30006   \n",
       "1  49404780-DEC19-D05CAR-1_Weekday       76260.0         76260.0    7437   \n",
       "2  49404780-DEC19-D05CAR-1_Weekday       76320.0         76320.0    6134   \n",
       "3  49404780-DEC19-D05CAR-1_Weekday       76380.0         76380.0   36554   \n",
       "4  49404780-DEC19-D05CAR-1_Weekday       76440.0         76440.0   36555   \n",
       "\n",
       "   stop_sequence                           stop_headsign  pickup_type  \\\n",
       "0              1  102 - Huntington Park - Palm - Seville            0   \n",
       "1              2  102 - Huntington Park - Palm - Seville            0   \n",
       "2              3  102 - Huntington Park - Palm - Seville            0   \n",
       "3              4  102 - Huntington Park - Palm - Seville            0   \n",
       "4              5  102 - Huntington Park - Palm - Seville            0   \n",
       "\n",
       "  drop_off_type  \n",
       "0             0  \n",
       "1             0  \n",
       "2             0  \n",
       "3             0  \n",
       "4             0  "
      ]
     },
     "execution_count": 16,
     "metadata": {},
     "output_type": "execute_result"
    }
   ],
   "source": [
    "# TODO: Pull stop times from the feed and examine the head of the table\n",
    "stop_times_df = feed.stop_times\n",
    "\n",
    "# Examine the head of the table\n",
    "stop_times_df.head()"
   ]
  },
  {
   "cell_type": "code",
   "execution_count": 17,
   "metadata": {},
   "outputs": [
    {
     "data": {
      "text/html": [
       "<div>\n",
       "<style scoped>\n",
       "    .dataframe tbody tr th:only-of-type {\n",
       "        vertical-align: middle;\n",
       "    }\n",
       "\n",
       "    .dataframe tbody tr th {\n",
       "        vertical-align: top;\n",
       "    }\n",
       "\n",
       "    .dataframe thead th {\n",
       "        text-align: right;\n",
       "    }\n",
       "</style>\n",
       "<table border=\"1\" class=\"dataframe\">\n",
       "  <thead>\n",
       "    <tr style=\"text-align: right;\">\n",
       "      <th></th>\n",
       "      <th>route_id</th>\n",
       "      <th>service_id</th>\n",
       "      <th>trip_id</th>\n",
       "      <th>trip_headsign</th>\n",
       "      <th>direction_id</th>\n",
       "      <th>block_id</th>\n",
       "      <th>shape_id</th>\n",
       "    </tr>\n",
       "  </thead>\n",
       "  <tbody>\n",
       "    <tr>\n",
       "      <th>0</th>\n",
       "      <td>102-13131</td>\n",
       "      <td>DEC19-D05CAR-1_Weekday</td>\n",
       "      <td>49404780-DEC19-D05CAR-1_Weekday</td>\n",
       "      <td>NaN</td>\n",
       "      <td>0</td>\n",
       "      <td>1020400</td>\n",
       "      <td>1020065_DEC19</td>\n",
       "    </tr>\n",
       "    <tr>\n",
       "      <th>1</th>\n",
       "      <td>102-13131</td>\n",
       "      <td>DEC19-D05CAR-1_Weekday</td>\n",
       "      <td>49404781-DEC19-D05CAR-1_Weekday</td>\n",
       "      <td>NaN</td>\n",
       "      <td>0</td>\n",
       "      <td>1020100</td>\n",
       "      <td>1020037_DEC19</td>\n",
       "    </tr>\n",
       "    <tr>\n",
       "      <th>2</th>\n",
       "      <td>102-13131</td>\n",
       "      <td>DEC19-D05CAR-1_Weekday</td>\n",
       "      <td>49404782-DEC19-D05CAR-1_Weekday</td>\n",
       "      <td>NaN</td>\n",
       "      <td>0</td>\n",
       "      <td>1020300</td>\n",
       "      <td>1020038_DEC19</td>\n",
       "    </tr>\n",
       "    <tr>\n",
       "      <th>3</th>\n",
       "      <td>102-13131</td>\n",
       "      <td>DEC19-D05CAR-1_Weekday</td>\n",
       "      <td>49404783-DEC19-D05CAR-1_Weekday</td>\n",
       "      <td>NaN</td>\n",
       "      <td>0</td>\n",
       "      <td>1020300</td>\n",
       "      <td>1020037_DEC19</td>\n",
       "    </tr>\n",
       "    <tr>\n",
       "      <th>4</th>\n",
       "      <td>102-13131</td>\n",
       "      <td>DEC19-D05CAR-1_Weekday</td>\n",
       "      <td>49404784-DEC19-D05CAR-1_Weekday</td>\n",
       "      <td>NaN</td>\n",
       "      <td>1</td>\n",
       "      <td>1020300</td>\n",
       "      <td>1020061_DEC19</td>\n",
       "    </tr>\n",
       "  </tbody>\n",
       "</table>\n",
       "</div>"
      ],
      "text/plain": [
       "    route_id              service_id                          trip_id  \\\n",
       "0  102-13131  DEC19-D05CAR-1_Weekday  49404780-DEC19-D05CAR-1_Weekday   \n",
       "1  102-13131  DEC19-D05CAR-1_Weekday  49404781-DEC19-D05CAR-1_Weekday   \n",
       "2  102-13131  DEC19-D05CAR-1_Weekday  49404782-DEC19-D05CAR-1_Weekday   \n",
       "3  102-13131  DEC19-D05CAR-1_Weekday  49404783-DEC19-D05CAR-1_Weekday   \n",
       "4  102-13131  DEC19-D05CAR-1_Weekday  49404784-DEC19-D05CAR-1_Weekday   \n",
       "\n",
       "  trip_headsign  direction_id block_id       shape_id  \n",
       "0           NaN             0  1020400  1020065_DEC19  \n",
       "1           NaN             0  1020100  1020037_DEC19  \n",
       "2           NaN             0  1020300  1020038_DEC19  \n",
       "3           NaN             0  1020300  1020037_DEC19  \n",
       "4           NaN             1  1020300  1020061_DEC19  "
      ]
     },
     "execution_count": 17,
     "metadata": {},
     "output_type": "execute_result"
    }
   ],
   "source": [
    "# TODO: Extract the trips and examine the head of the table\n",
    "trips_df = feed.trips\n",
    "trips_df.head()"
   ]
  },
  {
   "cell_type": "markdown",
   "metadata": {},
   "source": [
    "##### Step 3: Write helper function\n",
    "\n",
    "Write a function that filters the stop_times for only the hours of interest. You'll notice that the times are in seconds, so make sure to account for the appropriate conversion. We will do our calculations based on the `arrival_time`."
   ]
  },
  {
   "cell_type": "code",
   "execution_count": 18,
   "metadata": {},
   "outputs": [
    {
     "name": "stdout",
     "output_type": "stream",
     "text": [
      "The unfiltered DF contains 839248 rows.\n",
      "Between 7-10am, there are 164903 rows.\n"
     ]
    }
   ],
   "source": [
    "# TODO: Create a function to filter our stop_times dataframe\n",
    "#       by a beginning hour (inclusive) and end hour (exclusive)\n",
    "#       using methods in the Pandas library\n",
    "def filter_stoptimes_byhour(df, begin_hour, end_hour):\n",
    "    ''' \n",
    "    Filter a GTFS DF by start/end hour\n",
    "    \n",
    "    :param df DataFrame: Pandas DF of stop_times from partridge\n",
    "    :param begin_hour int: begin hour (inclusive), 0-23\n",
    "    :param end_hour int: end hour (not inclusive), 1-24\n",
    "    returns: Filtered stop_times df\n",
    "    '''\n",
    "    begin_sec = begin_hour * 60**2\n",
    "    end_sec = end_hour * 60**2\n",
    "    \n",
    "    df = df[df['arrival_time'] >= begin_sec]\n",
    "    df = df[df['arrival_time'] < end_sec]\n",
    "    return df\n",
    "\n",
    "# Compare the length of raw & filtered dataframes for comparison\n",
    "print(f'The unfiltered DF contains {len(stop_times_df)} rows.')\n",
    "print(f'Between 7-10am, there are {len(filter_stoptimes_byhour(stop_times_df, 7, 10))} rows.')"
   ]
  },
  {
   "cell_type": "markdown",
   "metadata": {},
   "source": [
    "### \"The appropriate conversion\" is pretty hard!\n",
    "*Per [spec](https://developers.google.com/transit/gtfs/reference#stop_timestxt), GTFS arrival times can wrap 'above 24 hours' if the schedule continues overnight into the next day. Below cells show one option for correcting and the difference it makes in the early am hours. Of course it doesn't seem to matter in either peak period, but if we care about being precise we might want to point this out in the directions. -Eric*"
   ]
  },
  {
   "cell_type": "code",
   "execution_count": 19,
   "metadata": {},
   "outputs": [
    {
     "name": "stdout",
     "output_type": "stream",
     "text": [
      "seconds in a day: 86400\n",
      "max time in df: 107100.0\n"
     ]
    }
   ],
   "source": [
    "print('seconds in a day: {}'.format(24*60**2))\n",
    "print('max time in df: {}'.format(stop_times_df['arrival_time'].max()))"
   ]
  },
  {
   "cell_type": "code",
   "execution_count": 20,
   "metadata": {},
   "outputs": [
    {
     "name": "stdout",
     "output_type": "stream",
     "text": [
      "So the simple function won't capture all trips before 5.75 hours, or 5:45AM\n"
     ]
    }
   ],
   "source": [
    "print('So the simple function won\\'t capture all trips before {} hours, or 5:45AM'.format((107100-86400) / 60**2))"
   ]
  },
  {
   "cell_type": "code",
   "execution_count": 21,
   "metadata": {},
   "outputs": [
    {
     "name": "stdout",
     "output_type": "stream",
     "text": [
      "The unfiltered DF contains 839248 rows.\n",
      "Between 3-5am, there are 8488 rows.\n",
      "Well, actually 14718 rows.\n"
     ]
    }
   ],
   "source": [
    "def better_filter_stoptimes_byhour(df, begin_hour, end_hour):\n",
    "    ''' \n",
    "    Filter a GTFS DF by start/end hour\n",
    "    \n",
    "    :param df DataFrame: Pandas DF of stop_times from partridge\n",
    "    :param begin_hour int: begin hour (inclusive), 0-23\n",
    "    :param end_hour int: end hour (not inclusive), 1-24\n",
    "    returns: Filtered stop_times df\n",
    "    '''\n",
    "    sec_in_day = 24*60**2\n",
    "    df['real_arr_time'] = df['arrival_time'] % sec_in_day\n",
    "    \n",
    "    begin_sec = begin_hour * 60**2\n",
    "    end_sec = end_hour * 60**2\n",
    "    \n",
    "    df = df[df['real_arr_time'] >= begin_sec]\n",
    "    df = df[df['real_arr_time'] < end_sec]\n",
    "    df.drop(columns=['real_arr_time'], inplace=True)\n",
    "    return df\n",
    "\n",
    "# Compare the length of raw & filtered dataframes for comparison\n",
    "print(f'The unfiltered DF contains {len(stop_times_df)} rows.')\n",
    "#original function undercounts early AM\n",
    "print(f'Between 3-5am, there are {len(filter_stoptimes_byhour(stop_times_df, 3, 5))} rows.')\n",
    "#more advanced version counts it correctly...\n",
    "print(f'Well, actually {len(better_filter_stoptimes_byhour(stop_times_df, 3, 5))} rows.')"
   ]
  },
  {
   "cell_type": "markdown",
   "metadata": {},
   "source": [
    "##### Step 4: Calculate Stop Average Frequency at Each Peak\n",
    "As a reminder, The first criterion for High-Quality Bus Corridors is that the routes \"have less than a 10-minute average headway for three consecutive hours\" in the AM peak. During this step, we are going to filter for all the routes that have more than 18 scheduled arrivals in the 3 hour period between 7-10am.\n",
    "\n",
    "With that helper function complete, we are ready to write the aggregation pipeline to compute the average frequency for each hour in the `stop_times` dataframe. _This next step will involve a fairly heavy use of the `pandas` library. I recommend [brushing up](https://pandas.pydata.org/pandas-docs/stable/getting_started/10min.html) on some of the most common operations if the steps below seem intimidating. Also, note that the `pandas` library often has multiple methods that essentially perform the same function, so how you complete the next step will look a little different depending on the methods you choose._ \n",
    "  \n",
    "We will calculate the frequency through the following steps:\n",
    "1. Filter for hours by using our new function `filter_stoptimes_byhour`.\n",
    "2. Join `stop_times` to `trips`, joining on the `trip_id`.\n",
    "3. Group by the following:\n",
    "    - `route_id`\n",
    "    - `direction_id`\n",
    "    - `stop_id`\n",
    "    - `service_id`\n",
    "4. Summarize by count into a new column called `count`\n",
    "5. Filter for rows that have `count` >= 18.\n",
    "6. Create a new column `am_headway` that shows the average headway (in minutes)."
   ]
  },
  {
   "cell_type": "markdown",
   "metadata": {},
   "source": [
    "*Looking at your completed version, it seems like I mostly did ok except for failing to specify an 'inner' merge. Actually looked it up and seems like that's the default, so the discrepancy probably isn't due to that. Besides being less elegant, curious to know why mine gives slightly longer df's*"
   ]
  },
  {
   "cell_type": "code",
   "execution_count": 23,
   "metadata": {},
   "outputs": [
    {
     "name": "stdout",
     "output_type": "stream",
     "text": [
      "880\n"
     ]
    },
    {
     "data": {
      "text/html": [
       "<div>\n",
       "<style scoped>\n",
       "    .dataframe tbody tr th:only-of-type {\n",
       "        vertical-align: middle;\n",
       "    }\n",
       "\n",
       "    .dataframe tbody tr th {\n",
       "        vertical-align: top;\n",
       "    }\n",
       "\n",
       "    .dataframe thead th {\n",
       "        text-align: right;\n",
       "    }\n",
       "</style>\n",
       "<table border=\"1\" class=\"dataframe\">\n",
       "  <thead>\n",
       "    <tr style=\"text-align: right;\">\n",
       "      <th></th>\n",
       "      <th>route_id</th>\n",
       "      <th>direction_id</th>\n",
       "      <th>stop_id</th>\n",
       "      <th>service_id</th>\n",
       "      <th>count</th>\n",
       "      <th>am_headway</th>\n",
       "    </tr>\n",
       "  </thead>\n",
       "  <tbody>\n",
       "    <tr>\n",
       "      <th>0</th>\n",
       "      <td>108-13131</td>\n",
       "      <td>0</td>\n",
       "      <td>13000148</td>\n",
       "      <td>DEC19-D05CAR-1_Weekday</td>\n",
       "      <td>18</td>\n",
       "      <td>10.000000</td>\n",
       "    </tr>\n",
       "    <tr>\n",
       "      <th>1</th>\n",
       "      <td>108-13131</td>\n",
       "      <td>0</td>\n",
       "      <td>1539</td>\n",
       "      <td>DEC19-D05CAR-1_Weekday</td>\n",
       "      <td>19</td>\n",
       "      <td>9.473684</td>\n",
       "    </tr>\n",
       "    <tr>\n",
       "      <th>2</th>\n",
       "      <td>108-13131</td>\n",
       "      <td>0</td>\n",
       "      <td>1637</td>\n",
       "      <td>DEC19-D05CAR-1_Weekday</td>\n",
       "      <td>20</td>\n",
       "      <td>9.000000</td>\n",
       "    </tr>\n",
       "    <tr>\n",
       "      <th>3</th>\n",
       "      <td>108-13131</td>\n",
       "      <td>0</td>\n",
       "      <td>1639</td>\n",
       "      <td>DEC19-D05CAR-1_Weekday</td>\n",
       "      <td>20</td>\n",
       "      <td>9.000000</td>\n",
       "    </tr>\n",
       "    <tr>\n",
       "      <th>4</th>\n",
       "      <td>108-13131</td>\n",
       "      <td>0</td>\n",
       "      <td>1642</td>\n",
       "      <td>DEC19-D05CAR-1_Weekday</td>\n",
       "      <td>20</td>\n",
       "      <td>9.000000</td>\n",
       "    </tr>\n",
       "  </tbody>\n",
       "</table>\n",
       "</div>"
      ],
      "text/plain": [
       "    route_id  direction_id   stop_id              service_id  count  \\\n",
       "0  108-13131             0  13000148  DEC19-D05CAR-1_Weekday     18   \n",
       "1  108-13131             0      1539  DEC19-D05CAR-1_Weekday     19   \n",
       "2  108-13131             0      1637  DEC19-D05CAR-1_Weekday     20   \n",
       "3  108-13131             0      1639  DEC19-D05CAR-1_Weekday     20   \n",
       "4  108-13131             0      1642  DEC19-D05CAR-1_Weekday     20   \n",
       "\n",
       "   am_headway  \n",
       "0   10.000000  \n",
       "1    9.473684  \n",
       "2    9.000000  \n",
       "3    9.000000  \n",
       "4    9.000000  "
      ]
     },
     "execution_count": 23,
     "metadata": {},
     "output_type": "execute_result"
    }
   ],
   "source": [
    "# TODO: Perform aggregation & computation steps from above\n",
    "st_filtered_am = better_filter_stoptimes_byhour(stop_times_df, 7, 10)\n",
    "stop_freq_am_df = trips_df.merge(st_filtered_am, on='trip_id')\n",
    "stop_freq_am_df = stop_freq_am_df.groupby(['route_id', 'direction_id', 'stop_id', 'service_id']).count()\n",
    "stop_freq_am_df = stop_freq_am_df.loc[stop_freq_am_df['trip_id'] >= 18]\n",
    "stop_freq_am_df['am_headway'] = 3*60 / stop_freq_am_df['trip_id']\n",
    "stop_freq_am_df = stop_freq_am_df.rename(columns={'trip_id':'count'})[['count', 'am_headway']]\n",
    "stop_freq_am_df = stop_freq_am_df.reset_index()\n",
    "\n",
    "# Exmaine the length and head of the new aggregated table\n",
    "print(len(stop_freq_am_df))\n",
    "stop_freq_am_df.head()"
   ]
  },
  {
   "cell_type": "markdown",
   "metadata": {},
   "source": [
    "In addition to providing minimum of a 10 minute headway for the AM Peak, the stop must also meet the same minimum frequency for the PM Peak. Again, although the legislation gives a little bit of leeway with a 4 hour window, we are going to pick the hours of 4-7pm (the same hours used in the UF analysis). The new column should be named `pm_headway`.\n",
    "  \n",
    "_Hint: Make sure to use 24 hour format in your `filter_stoptimes_byhour` function_"
   ]
  },
  {
   "cell_type": "code",
   "execution_count": 31,
   "metadata": {},
   "outputs": [
    {
     "name": "stdout",
     "output_type": "stream",
     "text": [
      "965\n"
     ]
    },
    {
     "data": {
      "text/html": [
       "<div>\n",
       "<style scoped>\n",
       "    .dataframe tbody tr th:only-of-type {\n",
       "        vertical-align: middle;\n",
       "    }\n",
       "\n",
       "    .dataframe tbody tr th {\n",
       "        vertical-align: top;\n",
       "    }\n",
       "\n",
       "    .dataframe thead th {\n",
       "        text-align: right;\n",
       "    }\n",
       "</style>\n",
       "<table border=\"1\" class=\"dataframe\">\n",
       "  <thead>\n",
       "    <tr style=\"text-align: right;\">\n",
       "      <th></th>\n",
       "      <th>route_id</th>\n",
       "      <th>direction_id</th>\n",
       "      <th>stop_id</th>\n",
       "      <th>service_id</th>\n",
       "      <th>count</th>\n",
       "      <th>pm_headway</th>\n",
       "    </tr>\n",
       "  </thead>\n",
       "  <tbody>\n",
       "    <tr>\n",
       "      <th>0</th>\n",
       "      <td>108-13131</td>\n",
       "      <td>0</td>\n",
       "      <td>1641</td>\n",
       "      <td>DEC19-D05CAR-1_Weekday</td>\n",
       "      <td>18</td>\n",
       "      <td>10.0</td>\n",
       "    </tr>\n",
       "    <tr>\n",
       "      <th>1</th>\n",
       "      <td>108-13131</td>\n",
       "      <td>0</td>\n",
       "      <td>1644</td>\n",
       "      <td>DEC19-D05CAR-1_Weekday</td>\n",
       "      <td>18</td>\n",
       "      <td>10.0</td>\n",
       "    </tr>\n",
       "    <tr>\n",
       "      <th>2</th>\n",
       "      <td>108-13131</td>\n",
       "      <td>0</td>\n",
       "      <td>1646</td>\n",
       "      <td>DEC19-D05CAR-1_Weekday</td>\n",
       "      <td>18</td>\n",
       "      <td>10.0</td>\n",
       "    </tr>\n",
       "    <tr>\n",
       "      <th>3</th>\n",
       "      <td>108-13131</td>\n",
       "      <td>0</td>\n",
       "      <td>1647</td>\n",
       "      <td>DEC19-D05CAR-1_Weekday</td>\n",
       "      <td>18</td>\n",
       "      <td>10.0</td>\n",
       "    </tr>\n",
       "    <tr>\n",
       "      <th>4</th>\n",
       "      <td>108-13131</td>\n",
       "      <td>0</td>\n",
       "      <td>1649</td>\n",
       "      <td>DEC19-D05CAR-1_Weekday</td>\n",
       "      <td>18</td>\n",
       "      <td>10.0</td>\n",
       "    </tr>\n",
       "  </tbody>\n",
       "</table>\n",
       "</div>"
      ],
      "text/plain": [
       "    route_id  direction_id stop_id              service_id  count  pm_headway\n",
       "0  108-13131             0    1641  DEC19-D05CAR-1_Weekday     18        10.0\n",
       "1  108-13131             0    1644  DEC19-D05CAR-1_Weekday     18        10.0\n",
       "2  108-13131             0    1646  DEC19-D05CAR-1_Weekday     18        10.0\n",
       "3  108-13131             0    1647  DEC19-D05CAR-1_Weekday     18        10.0\n",
       "4  108-13131             0    1649  DEC19-D05CAR-1_Weekday     18        10.0"
      ]
     },
     "execution_count": 31,
     "metadata": {},
     "output_type": "execute_result"
    }
   ],
   "source": [
    "# TODO: Perform same steps for PM Peak\n",
    "st_filtered_pm = better_filter_stoptimes_byhour(stop_times_df, 16, 19)\n",
    "stop_freq_pm_df = trips_df.merge(st_filtered_pm, on='trip_id')\n",
    "stop_freq_pm_df = stop_freq_pm_df.groupby(['route_id', 'direction_id', 'stop_id', 'service_id']).count()\n",
    "stop_freq_pm_df = stop_freq_pm_df.loc[stop_freq_pm_df['trip_id'] >= 18]\n",
    "stop_freq_pm_df['pm_headway'] = 3*60 / stop_freq_pm_df['trip_id']\n",
    "stop_freq_pm_df = stop_freq_pm_df.rename(columns={'trip_id':'count'})[['count', 'pm_headway']]\n",
    "stop_freq_pm_df = stop_freq_pm_df.reset_index()\n",
    "# TODO: Exmaine the length and head of the new aggregated table\n",
    "print(len(stop_freq_pm_df))\n",
    "stop_freq_pm_df.head()"
   ]
  },
  {
   "cell_type": "markdown",
   "metadata": {},
   "source": [
    "##### Step 5: Filter for those stops that meet both headway conditions\n",
    "The stop must meet both AM and PM frequency criteria in order to be eligible for SB50 consideration. If you looked at the length of the two dataframes, you'll see that there is a difference in the number of rows, so we know that getting the intersection of both tables will produce (at most) the length of the smaller dataframe. \n",
    "\n",
    "To perform this filter, we need to do the following:\n",
    "- Use a join to filter for rows with a `route_id` and `stop_id` that meet both criteria (`direction_id` can be different).\n",
    "- Because a route has multiple directions, it is possible that a route would have frequent service in both directions at the same time, resulting in either of the tables having multiple rows with the same `route_id` and `stop_id`. Performing the join will result in the [cartesian product](https://www.geeksforgeeks.org/sql-join-cartesian-join-self-join/) of the matches. It shouldn't be too many, but make sure that we remove any rows with duplicate (`route_id`, `stop_id`) after the join."
   ]
  },
  {
   "cell_type": "code",
   "execution_count": 33,
   "metadata": {},
   "outputs": [
    {
     "name": "stdout",
     "output_type": "stream",
     "text": [
      "557\n"
     ]
    },
    {
     "data": {
      "text/html": [
       "<div>\n",
       "<style scoped>\n",
       "    .dataframe tbody tr th:only-of-type {\n",
       "        vertical-align: middle;\n",
       "    }\n",
       "\n",
       "    .dataframe tbody tr th {\n",
       "        vertical-align: top;\n",
       "    }\n",
       "\n",
       "    .dataframe thead th {\n",
       "        text-align: right;\n",
       "    }\n",
       "</style>\n",
       "<table border=\"1\" class=\"dataframe\">\n",
       "  <thead>\n",
       "    <tr style=\"text-align: right;\">\n",
       "      <th></th>\n",
       "      <th>route_id</th>\n",
       "      <th>direction_id_x</th>\n",
       "      <th>stop_id</th>\n",
       "      <th>service_id_x</th>\n",
       "      <th>count_x</th>\n",
       "      <th>am_headway</th>\n",
       "      <th>direction_id_y</th>\n",
       "      <th>service_id_y</th>\n",
       "      <th>count_y</th>\n",
       "      <th>pm_headway</th>\n",
       "    </tr>\n",
       "  </thead>\n",
       "  <tbody>\n",
       "    <tr>\n",
       "      <th>0</th>\n",
       "      <td>108-13131</td>\n",
       "      <td>0</td>\n",
       "      <td>1646</td>\n",
       "      <td>DEC19-D05CAR-1_Weekday</td>\n",
       "      <td>20</td>\n",
       "      <td>9.000000</td>\n",
       "      <td>0</td>\n",
       "      <td>DEC19-D05CAR-1_Weekday</td>\n",
       "      <td>18</td>\n",
       "      <td>10.000000</td>\n",
       "    </tr>\n",
       "    <tr>\n",
       "      <th>1</th>\n",
       "      <td>108-13131</td>\n",
       "      <td>0</td>\n",
       "      <td>1647</td>\n",
       "      <td>DEC19-D05CAR-1_Weekday</td>\n",
       "      <td>21</td>\n",
       "      <td>8.571429</td>\n",
       "      <td>0</td>\n",
       "      <td>DEC19-D05CAR-1_Weekday</td>\n",
       "      <td>18</td>\n",
       "      <td>10.000000</td>\n",
       "    </tr>\n",
       "    <tr>\n",
       "      <th>2</th>\n",
       "      <td>108-13131</td>\n",
       "      <td>0</td>\n",
       "      <td>6275</td>\n",
       "      <td>DEC19-D05CAR-1_Weekday</td>\n",
       "      <td>22</td>\n",
       "      <td>8.181818</td>\n",
       "      <td>0</td>\n",
       "      <td>DEC19-D05CAR-1_Weekday</td>\n",
       "      <td>18</td>\n",
       "      <td>10.000000</td>\n",
       "    </tr>\n",
       "    <tr>\n",
       "      <th>3</th>\n",
       "      <td>108-13131</td>\n",
       "      <td>0</td>\n",
       "      <td>8679</td>\n",
       "      <td>DEC19-D05CAR-1_Weekday</td>\n",
       "      <td>21</td>\n",
       "      <td>8.571429</td>\n",
       "      <td>0</td>\n",
       "      <td>DEC19-D05CAR-1_Weekday</td>\n",
       "      <td>18</td>\n",
       "      <td>10.000000</td>\n",
       "    </tr>\n",
       "    <tr>\n",
       "      <th>4</th>\n",
       "      <td>108-13131</td>\n",
       "      <td>1</td>\n",
       "      <td>16262</td>\n",
       "      <td>DEC19-D05CAR-1_Weekday</td>\n",
       "      <td>18</td>\n",
       "      <td>10.000000</td>\n",
       "      <td>1</td>\n",
       "      <td>DEC19-D05CAR-1_Weekday</td>\n",
       "      <td>21</td>\n",
       "      <td>8.571429</td>\n",
       "    </tr>\n",
       "  </tbody>\n",
       "</table>\n",
       "</div>"
      ],
      "text/plain": [
       "    route_id  direction_id_x stop_id            service_id_x  count_x  \\\n",
       "0  108-13131               0    1646  DEC19-D05CAR-1_Weekday       20   \n",
       "1  108-13131               0    1647  DEC19-D05CAR-1_Weekday       21   \n",
       "2  108-13131               0    6275  DEC19-D05CAR-1_Weekday       22   \n",
       "3  108-13131               0    8679  DEC19-D05CAR-1_Weekday       21   \n",
       "4  108-13131               1   16262  DEC19-D05CAR-1_Weekday       18   \n",
       "\n",
       "   am_headway  direction_id_y            service_id_y  count_y  pm_headway  \n",
       "0    9.000000               0  DEC19-D05CAR-1_Weekday       18   10.000000  \n",
       "1    8.571429               0  DEC19-D05CAR-1_Weekday       18   10.000000  \n",
       "2    8.181818               0  DEC19-D05CAR-1_Weekday       18   10.000000  \n",
       "3    8.571429               0  DEC19-D05CAR-1_Weekday       18   10.000000  \n",
       "4   10.000000               1  DEC19-D05CAR-1_Weekday       21    8.571429  "
      ]
     },
     "execution_count": 33,
     "metadata": {},
     "output_type": "execute_result"
    }
   ],
   "source": [
    "# TODO: Find route_id, stop_id that meet both criteria\n",
    "ampm_stop_freq_df = stop_freq_am_df.merge(stop_freq_pm_df, on=['route_id', 'stop_id'])\n",
    "ampm_stop_freq_df = ampm_stop_freq_df.drop_duplicates(subset=['route_id', 'stop_id'])\n",
    "# TODO: Print the length and head of the new table for confirmation\n",
    "print(len(ampm_stop_freq_df))\n",
    "ampm_stop_freq_df.head()"
   ]
  },
  {
   "cell_type": "markdown",
   "metadata": {},
   "source": [
    "Now that we have the high-frequency stops, we can join it to  the `stops` feed to get the geometry objects for the buffer. Let's keep only the `stop_id`, `stop_name`, `am_headway`, `pm_headway`, `stop_lat`, `stop_lon` columns, dropping the rest."
   ]
  },
  {
   "cell_type": "code",
   "execution_count": 34,
   "metadata": {},
   "outputs": [
    {
     "data": {
      "text/html": [
       "<div>\n",
       "<style scoped>\n",
       "    .dataframe tbody tr th:only-of-type {\n",
       "        vertical-align: middle;\n",
       "    }\n",
       "\n",
       "    .dataframe tbody tr th {\n",
       "        vertical-align: top;\n",
       "    }\n",
       "\n",
       "    .dataframe thead th {\n",
       "        text-align: right;\n",
       "    }\n",
       "</style>\n",
       "<table border=\"1\" class=\"dataframe\">\n",
       "  <thead>\n",
       "    <tr style=\"text-align: right;\">\n",
       "      <th></th>\n",
       "      <th>stop_id</th>\n",
       "      <th>stop_code</th>\n",
       "      <th>stop_name</th>\n",
       "      <th>stop_desc</th>\n",
       "      <th>stop_lat</th>\n",
       "      <th>stop_lon</th>\n",
       "      <th>stop_url</th>\n",
       "      <th>location_type</th>\n",
       "      <th>parent_station</th>\n",
       "      <th>tpis_name</th>\n",
       "    </tr>\n",
       "  </thead>\n",
       "  <tbody>\n",
       "    <tr>\n",
       "      <th>0</th>\n",
       "      <td>1</td>\n",
       "      <td>1</td>\n",
       "      <td>Paramount / Slauson</td>\n",
       "      <td>NaN</td>\n",
       "      <td>33.973248</td>\n",
       "      <td>-118.113113</td>\n",
       "      <td>NaN</td>\n",
       "      <td>NaN</td>\n",
       "      <td>NaN</td>\n",
       "      <td>NaN</td>\n",
       "    </tr>\n",
       "    <tr>\n",
       "      <th>1</th>\n",
       "      <td>3</td>\n",
       "      <td>3</td>\n",
       "      <td>Jefferson / 10th</td>\n",
       "      <td>NaN</td>\n",
       "      <td>34.025471</td>\n",
       "      <td>-118.328402</td>\n",
       "      <td>NaN</td>\n",
       "      <td>NaN</td>\n",
       "      <td>NaN</td>\n",
       "      <td>NaN</td>\n",
       "    </tr>\n",
       "    <tr>\n",
       "      <th>2</th>\n",
       "      <td>6</td>\n",
       "      <td>6</td>\n",
       "      <td>120th / Augustus F Hawkins</td>\n",
       "      <td>NaN</td>\n",
       "      <td>33.924696</td>\n",
       "      <td>-118.242222</td>\n",
       "      <td>NaN</td>\n",
       "      <td>NaN</td>\n",
       "      <td>NaN</td>\n",
       "      <td>NaN</td>\n",
       "    </tr>\n",
       "    <tr>\n",
       "      <th>3</th>\n",
       "      <td>7</td>\n",
       "      <td>7</td>\n",
       "      <td>120th / Martin Luther King Hospital</td>\n",
       "      <td>NaN</td>\n",
       "      <td>33.924505</td>\n",
       "      <td>-118.240369</td>\n",
       "      <td>NaN</td>\n",
       "      <td>NaN</td>\n",
       "      <td>NaN</td>\n",
       "      <td>NaN</td>\n",
       "    </tr>\n",
       "    <tr>\n",
       "      <th>4</th>\n",
       "      <td>8</td>\n",
       "      <td>8</td>\n",
       "      <td>120th / Crenshaw</td>\n",
       "      <td>NaN</td>\n",
       "      <td>33.923818</td>\n",
       "      <td>-118.326886</td>\n",
       "      <td>NaN</td>\n",
       "      <td>NaN</td>\n",
       "      <td>NaN</td>\n",
       "      <td>NaN</td>\n",
       "    </tr>\n",
       "  </tbody>\n",
       "</table>\n",
       "</div>"
      ],
      "text/plain": [
       "  stop_id stop_code                            stop_name stop_desc   stop_lat  \\\n",
       "0       1         1                  Paramount / Slauson       NaN  33.973248   \n",
       "1       3         3                     Jefferson / 10th       NaN  34.025471   \n",
       "2       6         6           120th / Augustus F Hawkins       NaN  33.924696   \n",
       "3       7         7  120th / Martin Luther King Hospital       NaN  33.924505   \n",
       "4       8         8                     120th / Crenshaw       NaN  33.923818   \n",
       "\n",
       "     stop_lon stop_url  location_type parent_station tpis_name  \n",
       "0 -118.113113      NaN            NaN            NaN       NaN  \n",
       "1 -118.328402      NaN            NaN            NaN       NaN  \n",
       "2 -118.242222      NaN            NaN            NaN       NaN  \n",
       "3 -118.240369      NaN            NaN            NaN       NaN  \n",
       "4 -118.326886      NaN            NaN            NaN       NaN  "
      ]
     },
     "metadata": {},
     "output_type": "display_data"
    },
    {
     "data": {
      "text/html": [
       "<div>\n",
       "<style scoped>\n",
       "    .dataframe tbody tr th:only-of-type {\n",
       "        vertical-align: middle;\n",
       "    }\n",
       "\n",
       "    .dataframe tbody tr th {\n",
       "        vertical-align: top;\n",
       "    }\n",
       "\n",
       "    .dataframe thead th {\n",
       "        text-align: right;\n",
       "    }\n",
       "</style>\n",
       "<table border=\"1\" class=\"dataframe\">\n",
       "  <thead>\n",
       "    <tr style=\"text-align: right;\">\n",
       "      <th></th>\n",
       "      <th>stop_id</th>\n",
       "      <th>stop_name</th>\n",
       "      <th>am_headway</th>\n",
       "      <th>pm_headway</th>\n",
       "      <th>stop_lat</th>\n",
       "      <th>stop_lon</th>\n",
       "    </tr>\n",
       "  </thead>\n",
       "  <tbody>\n",
       "    <tr>\n",
       "      <th>0</th>\n",
       "      <td>46</td>\n",
       "      <td>7th / Hoover</td>\n",
       "      <td>6.923077</td>\n",
       "      <td>6.923077</td>\n",
       "      <td>34.059621</td>\n",
       "      <td>-118.283965</td>\n",
       "    </tr>\n",
       "    <tr>\n",
       "      <th>1</th>\n",
       "      <td>70</td>\n",
       "      <td>El Monte Busway / Alameda - Union Station</td>\n",
       "      <td>5.806452</td>\n",
       "      <td>6.428571</td>\n",
       "      <td>34.054490</td>\n",
       "      <td>-118.237358</td>\n",
       "    </tr>\n",
       "    <tr>\n",
       "      <th>2</th>\n",
       "      <td>99</td>\n",
       "      <td>Olive / Olympic</td>\n",
       "      <td>7.500000</td>\n",
       "      <td>9.000000</td>\n",
       "      <td>34.042134</td>\n",
       "      <td>-118.259555</td>\n",
       "    </tr>\n",
       "    <tr>\n",
       "      <th>3</th>\n",
       "      <td>213</td>\n",
       "      <td>Avalon / Martin Luther King Jr</td>\n",
       "      <td>6.206897</td>\n",
       "      <td>6.206897</td>\n",
       "      <td>34.010870</td>\n",
       "      <td>-118.265404</td>\n",
       "    </tr>\n",
       "    <tr>\n",
       "      <th>4</th>\n",
       "      <td>215</td>\n",
       "      <td>Avalon / Vernon</td>\n",
       "      <td>6.206897</td>\n",
       "      <td>6.206897</td>\n",
       "      <td>34.004085</td>\n",
       "      <td>-118.265376</td>\n",
       "    </tr>\n",
       "  </tbody>\n",
       "</table>\n",
       "</div>"
      ],
      "text/plain": [
       "  stop_id                                  stop_name  am_headway  pm_headway  \\\n",
       "0      46                               7th / Hoover    6.923077    6.923077   \n",
       "1      70  El Monte Busway / Alameda - Union Station    5.806452    6.428571   \n",
       "2      99                            Olive / Olympic    7.500000    9.000000   \n",
       "3     213             Avalon / Martin Luther King Jr    6.206897    6.206897   \n",
       "4     215                            Avalon / Vernon    6.206897    6.206897   \n",
       "\n",
       "    stop_lat    stop_lon  \n",
       "0  34.059621 -118.283965  \n",
       "1  34.054490 -118.237358  \n",
       "2  34.042134 -118.259555  \n",
       "3  34.010870 -118.265404  \n",
       "4  34.004085 -118.265376  "
      ]
     },
     "execution_count": 34,
     "metadata": {},
     "output_type": "execute_result"
    }
   ],
   "source": [
    "# TODO: Pull stops from the feed and examine the head of the table\n",
    "stops_df = feed.stops\n",
    "display(stops_df.head())\n",
    "\n",
    "# TODO: Join stops with stop_freq_df and drop unnecessary columns\n",
    "stops_joined_df = pd.merge(stops_df, ampm_stop_freq_df, on='stop_id')\n",
    "stops_joined_df = stops_joined_df[['stop_id', 'stop_name', 'am_headway', 'pm_headway',\n",
    "                                 'stop_lat', 'stop_lon']]\n",
    "\n",
    "# TODO: Exmaine the head of the final df\n",
    "stops_joined_df.head()"
   ]
  },
  {
   "cell_type": "markdown",
   "metadata": {},
   "source": [
    "##### Step 7: Create 1/4 mi. buffers around High-Quality Transit Corridor Stops\n",
    "After the join, follow the same general steps as with the rail stations to create buffers around each of these stops (but this time for 1/4 mi. instead of 1/2 mi.).\n",
    "\n"
   ]
  },
  {
   "cell_type": "markdown",
   "metadata": {},
   "source": [
    "*Might also remind to assign a CRS (and why WGS84 is appropriate) before transforming to NAD83, since unlike the rail station data there is no preset CRS when converting a gdf from xy coordinates in a df. –Eric*"
   ]
  },
  {
   "cell_type": "code",
   "execution_count": 38,
   "metadata": {},
   "outputs": [],
   "source": [
    "# TODO: Convert to gdf, project, buffer\n",
    "bus_gdf = gpd.GeoDataFrame(\n",
    "    stops_joined_df, geometry=gpd.points_from_xy(stops_joined_df['stop_lon'],\n",
    "                                                       stops_joined_df['stop_lat']))\n",
    "bus_gdf.crs = 'EPSG:4326'\n",
    "bus_gdf_nad83 = bus_gdf.to_crs('EPSG:2229')\n",
    "\n",
    "# You could have used either ft or m, as long as it aligns with your CRS\n",
    "bus_qtrmi_buff = bus_gdf_nad83['geometry'].buffer(1320)\n",
    "\n",
    "# TODO: Add original rail data to buffer\n",
    "bus_gdf.geometry = bus_qtrmi_buff\n",
    "\n",
    "# TODO: Re-project back to WGS84 for map display\n",
    "bus_buff_wgs84 = bus_gdf.to_crs('EPSG:4326')"
   ]
  },
  {
   "cell_type": "markdown",
   "metadata": {},
   "source": [
    "Go ahead and display the buffers on a map using `ipyleaflet`."
   ]
  },
  {
   "cell_type": "code",
   "execution_count": 40,
   "metadata": {},
   "outputs": [
    {
     "data": {
      "application/vnd.jupyter.widget-view+json": {
       "model_id": "ab1a60c4ffbc49429d61d32cabed05e8",
       "version_major": 2,
       "version_minor": 0
      },
      "text/plain": [
       "Map(center=[34, -118], controls=(ZoomControl(options=['position', 'zoom_in_text', 'zoom_in_title', 'zoom_out_t…"
      ]
     },
     "metadata": {},
     "output_type": "display_data"
    }
   ],
   "source": [
    "# TODO: Create map object, add buffers, and display\n",
    "from ipyleaflet import Map, GeoData, basemaps, LayersControl\n",
    "\n",
    "m = Map(center=(34, -118), zoom = 10, basemap= basemaps.Esri.WorldTopoMap)\n",
    "\n",
    "geo_data = GeoData(geo_dataframe = bus_buff_wgs84,\n",
    "                   style={'color': 'black', 'fillColor': '#3366cc', 'opacity':0.05, 'weight':1.9, 'dashArray':'2', 'fillOpacity':0.6},\n",
    "                   hover_style={'fillColor': 'red' , 'fillOpacity': 0.2},\n",
    "                   name = 'Bus Stops')\n",
    "\n",
    "m.add_layer(geo_data)\n",
    "m.add_control(LayersControl())\n",
    "\n",
    "m\n"
   ]
  },
  {
   "cell_type": "markdown",
   "metadata": {},
   "source": [
    "Finally, as with the rail stop, let's go ahead and save this buffered geometry to `data/processed/hqbus_stop_buff_wgs84.geojson`."
   ]
  },
  {
   "cell_type": "code",
   "execution_count": 60,
   "metadata": {},
   "outputs": [],
   "source": [
    "# TODO: Write out to data/processed\n",
    "bus_buff_wgs84.to_file('data/processed/hqbus_stop_buff_wgs84.geojson', driver='GeoJSON')"
   ]
  },
  {
   "cell_type": "markdown",
   "metadata": {},
   "source": [
    "#### Cool! \n",
    "\n",
    "*But I was surprised to see that most of Wilshire didn't show up on the map. Played around with things for a while to see if I messed up a join somewhere, if I did I couldn't figure out where.*"
   ]
  },
  {
   "cell_type": "markdown",
   "metadata": {},
   "source": [
    "### To Be Continued...\n",
    "In the next part, we will add the non-transportation criteria for areas that were considered for SB50. Stay tuned."
   ]
  },
  {
   "cell_type": "code",
   "execution_count": null,
   "metadata": {},
   "outputs": [],
   "source": []
  }
 ],
 "metadata": {
  "kernelspec": {
   "display_name": "Python 3",
   "language": "python",
   "name": "python3"
  },
  "language_info": {
   "codemirror_mode": {
    "name": "ipython",
    "version": 3
   },
   "file_extension": ".py",
   "mimetype": "text/x-python",
   "name": "python",
   "nbconvert_exporter": "python",
   "pygments_lexer": "ipython3",
   "version": "3.8.2"
  }
 },
 "nbformat": 4,
 "nbformat_minor": 2
}
