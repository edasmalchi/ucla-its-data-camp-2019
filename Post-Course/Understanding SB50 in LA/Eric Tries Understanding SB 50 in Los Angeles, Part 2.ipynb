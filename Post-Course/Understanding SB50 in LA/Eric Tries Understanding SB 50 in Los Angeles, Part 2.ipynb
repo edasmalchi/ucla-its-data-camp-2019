{
 "cells": [
  {
   "cell_type": "markdown",
   "metadata": {},
   "source": [
    "# Understanding SB 50 in LA, Part 2\n",
    "Let's pick up where we left off last time. We should have prepared all the data regarding the transportation-based criteria. Now we are going to move on to the two newer criteria for SB50: Job-Rich areas (an addition) and Sensitive Communities (a subtraction). After the first exercise, you should have the following files in your `data/processed/` directory:\n",
    "```\n",
    "data/                             \n",
    "├── processed/  \n",
    "│   ├── rail_stop_buff_wgs84.geojson   <- 1/2 mi buff around rail stations\n",
    "│   └── hqbus_stop_buff_wgs84.geojson  <- 1/4 mi buff around HQ bus stops            \n",
    "└── raw/         \n",
    "```"
   ]
  },
  {
   "cell_type": "code",
   "execution_count": 1,
   "metadata": {},
   "outputs": [],
   "source": [
    "# Import libraries\n",
    "import pandas as pd\n",
    "import geopandas as gpd\n",
    "from ipyleaflet import Map, GeoData, basemaps, LayersControl"
   ]
  },
  {
   "cell_type": "markdown",
   "metadata": {},
   "source": [
    "### Adding the Job-Rich Areas\n",
    "\n",
    "A second part of the bill allowed for additional development \"job rich\" areas. What the legislation meant by \"job rich\" was not exactly clear; however, it was understood by insiders that Weiner's staff were considering a specific map within the _Mapping Opportunities in California_ project, specifically the view that contained the definition of \"high-opportunity + jobs-rich, long in-commutes, and/or jobs-housing mismatch.\" You can find an interactive version of the map [here](http://mappingopportunityca.org/).  \n",
    "\n",
    "However, if you take a look at the interactive map, there is not a readily-available link to download the underlying data. Might there be a way to find out where the data driving the map lives? Go ahead and examine the underlying code by right-clicking the map and selecting \"Inspect\". Dig through the HTML and look for the scripts labeled \"js/getData.js\" and \"js/map.js\", which _sound_ like they may have some clues to our data _(Hint: keep an eye out for 2 files: finalData.csv and a companion json file that will contain the spatial data)_.\n",
    "\n",
    "Once you find where the data files are located, go ahead and add it to your project within the `data/raw` directory so we can use it for our project. However, before loading it, take a peek at the contents. You might notice that the format doesn't look quite the same as the GeoJSON that we've been using (there was also a hint in the .js code as well). Instead, these data are spatial, but they are TopoJSON data, which you can read more about [here](https://bost.ocks.org/mike/topology/).\n",
    "\n",
    "Depending on your version of `fiona`, you might already have the driver installed and be able to read it directly into a GeoPandas dataframe using the following command: `jobs_shapes = gpd.read_file('data/raw/nodata.json', driver='TopoJSON')`. If not, make sure to update `fiona` to the latest version (1.8.5 or greater)."
   ]
  },
  {
   "cell_type": "code",
   "execution_count": 2,
   "metadata": {},
   "outputs": [
    {
     "name": "stderr",
     "output_type": "stream",
     "text": [
      "/Users/edasmalchi/anaconda3/envs/pd1/lib/python3.8/site-packages/pyproj/crs/crs.py:53: FutureWarning: '+init=<authority>:<code>' syntax is deprecated. '<authority>:<code>' is the preferred initialization method. When making the change, be mindful of axis order changes: https://pyproj4.github.io/pyproj/stable/gotchas.html#axis-order-changes-in-proj-6\n",
      "  return _prepare_from_string(\" \".join(pjargs))\n"
     ]
    }
   ],
   "source": [
    "# Load data & set CRS (if not already set) to 4326\n",
    "jobs_shapes = gpd.read_file('data/raw/nodata.json', driver='TopoJSON')\n",
    "jobs_shapes.crs = {'init':'epsg:4326'}"
   ]
  },
  {
   "cell_type": "markdown",
   "metadata": {},
   "source": [
    "Now that we've loaded our spatial layers, let's take a look at what we have. Using the example from Part 1 of this exercise, go ahead and display the contents of `geos` in an `ipyleaflet` map. You should see a map that somewhat resembles this:\n",
    "\n",
    "![TopoMap](img/topo_mapping_opportunities.png)"
   ]
  },
  {
   "cell_type": "code",
   "execution_count": 3,
   "metadata": {},
   "outputs": [
    {
     "data": {
      "application/vnd.jupyter.widget-view+json": {
       "model_id": "2a016207b5714805bf73e6a16ebea1e0",
       "version_major": 2,
       "version_minor": 0
      },
      "text/plain": [
       "Map(center=[34, -118], controls=(ZoomControl(options=['position', 'zoom_in_text', 'zoom_in_title', 'zoom_out_t…"
      ]
     },
     "metadata": {},
     "output_type": "display_data"
    }
   ],
   "source": [
    "# TODO: Create basemap, zoomed out a bit to CA\n",
    "m = Map(center=(34, -118), zoom = 7, basemap= basemaps.Esri.WorldTopoMap)\n",
    "\n",
    "# TODO: Create the GeoData Object and add to the Map\n",
    "jobs_gd = GeoData(geo_dataframe = jobs_shapes,\n",
    "                   style={'color': 'black', 'fillColor': '#3366cc', 'opacity':0.5, 'weight':1.9, 'dashArray':'2', 'fillOpacity':0.1},\n",
    "                   hover_style={'fillColor': 'red' , 'fillOpacity': 0.2},\n",
    "                   name = 'Jobs')\n",
    "\n",
    "# Add the GeoData Object as Map Layer\n",
    "m.add_layer(jobs_gd)\n",
    "\n",
    "# Optional: Add layer control\n",
    "m.add_control(LayersControl())\n",
    "\n",
    "# Display the map\n",
    "m"
   ]
  },
  {
   "cell_type": "markdown",
   "metadata": {},
   "source": [
    "Now that we have the geographic boundaries, we need to perform additional manipulations:\n",
    "\n",
    "1. **Filter for Los Angeles County**: Currently the data is for all of California. For our project, we only need LA County.\n",
    "2. **Join with data**: We currently are mapping only the geography, not the data. We will need to join to `finalData.csv` \n",
    "3. **Reconstruct the appropriate view**: We are intersted in the specific view called \"high-opportunity + jobs-rich, long in-commutes, and/or jobs-housing mismatch\" that was identified in the _Mapping Opportunities in California_ map. We will need to figure out how to reconstruct that subset of the data (since there are other views in the map as well, all of which are derived from the same `finalData.csv`."
   ]
  },
  {
   "cell_type": "markdown",
   "metadata": {},
   "source": [
    "##### Step 1: Filter for LA County\n",
    "Let's start by filtering those areas only in LA County. To apply this first filter, we are going to need a geographic boundary of LA County, which you can find [here](http://geohub.lacity.org/datasets/10f1e37c065347e693cf4e8ee753c09b_15). Write a command to query the API and save the save the result to our `data/raw` folder."
   ]
  },
  {
   "cell_type": "code",
   "execution_count": 4,
   "metadata": {},
   "outputs": [],
   "source": [
    "# TODO: Import requests & json packages\n",
    "import requests, json\n",
    "# TODO: Call the API to get the GeoJSON data, and save to 'data/raw'\n",
    "url = 'https://opendata.arcgis.com/datasets/10f1e37c065347e693cf4e8ee753c09b_15.geojson'\n",
    "resp = requests.get(url)\n",
    "\n",
    "# Only move forward if there is a successful status code\n",
    "if resp.status_code == requests.codes.ok:\n",
    "\n",
    "    # Write out JSON to data/ or data/raw \n",
    "    with open('data/raw/lacounty_wgs84.geojson', 'w') as outfile:\n",
    "        json.dump(resp.json(), outfile)"
   ]
  },
  {
   "cell_type": "markdown",
   "metadata": {},
   "source": [
    "Now that we've saved our data, load it back into our current workspace. \n",
    "  \n",
    "The [GeoPandas Documentation](http://geopandas.org/mergingdata.html) discusses two types of joins: attribute joins and spatial joins. Once we have our LA County boundary, we want to perform a GeoPandas _spatial join_ operation on the data, keeping all the geographies from `jobs_shapes` that are within the LA County boundary. Review the GeoPandas documentation on spatial joins [here](http://geopandas.org/mergingdata.html#spatial-joins). Confirm that the filter worked correctly by printing out the number of rows in the dataframe before and after the join."
   ]
  },
  {
   "cell_type": "code",
   "execution_count": 5,
   "metadata": {},
   "outputs": [
    {
     "name": "stderr",
     "output_type": "stream",
     "text": [
      "/Users/edasmalchi/anaconda3/envs/pd1/lib/python3.8/site-packages/geopandas/tools/sjoin.py:58: UserWarning: CRS of frames being joined does not match!(+init=epsg:4326 +type=crs != epsg:4326)\n",
      "  warn(\n"
     ]
    },
    {
     "name": "stdout",
     "output_type": "stream",
     "text": [
      "There are 8047 rows in the pre-join GDF.\n",
      "There are 2243 rows in the post-join GDF.\n"
     ]
    }
   ],
   "source": [
    "# TODO: Load in the LA County Boundary data as GDF\n",
    "lacounty_gdf = gpd.read_file('data/raw/lacounty_wgs84.geojson', driver='GeoJSON')\n",
    "\n",
    "# TODO: Apply Spatial join to data\n",
    "la_geo = gpd.sjoin(jobs_shapes, lacounty_gdf, how=\"inner\", op=\"within\")\n",
    "\n",
    "# Print the lengths of the GDF before & after the join, confirming that rows have been dropped\n",
    "print(f'There are {len(jobs_shapes)} rows in the pre-join GDF.')\n",
    "print(f'There are {len(la_geo)} rows in the post-join GDF.')"
   ]
  },
  {
   "cell_type": "markdown",
   "metadata": {},
   "source": [
    "Once you've confirmed that the post-join dataframe is smaller than the previous one, remove all the columns that were added from the LA County boundary file during the join. Once that is done, go ahead and save it to disk at `data/processed/la_geo_wgs84.geojson`."
   ]
  },
  {
   "cell_type": "code",
   "execution_count": 6,
   "metadata": {},
   "outputs": [],
   "source": [
    "# TODO: Only keep columns: 'id', 'fips', 'geometry'\n",
    "la_geo = la_geo.loc[:,['id', 'fips', 'geometry']]\n",
    "\n",
    "# TODO: Write filtered geometry to disk\n",
    "la_geo.to_file(\"data/processed/la_geo_wgs84.geojson\", driver='GeoJSON')"
   ]
  },
  {
   "cell_type": "markdown",
   "metadata": {},
   "source": [
    "##### Step 2: Join the Geography to Data file\n",
    "Let's join our geography file to our data to create one GeoDataFrame containing both. In this case, we will be performing an attribute join (we previously did an _attribute join_ on the GDF), based on a unique identifier for each geometry object.\n",
    "\n",
    "Let's begin by loading our `finalData.csv` into a Pandas DataFrame and inspecting the head. Let's also inspect the head of our `geos` GeoDataFrame and look for an ID value that we could use to join the two."
   ]
  },
  {
   "cell_type": "code",
   "execution_count": 7,
   "metadata": {},
   "outputs": [
    {
     "data": {
      "text/html": [
       "<div>\n",
       "<style scoped>\n",
       "    .dataframe tbody tr th:only-of-type {\n",
       "        vertical-align: middle;\n",
       "    }\n",
       "\n",
       "    .dataframe tbody tr th {\n",
       "        vertical-align: top;\n",
       "    }\n",
       "\n",
       "    .dataframe thead th {\n",
       "        text-align: right;\n",
       "    }\n",
       "</style>\n",
       "<table border=\"1\" class=\"dataframe\">\n",
       "  <thead>\n",
       "    <tr style=\"text-align: right;\">\n",
       "      <th></th>\n",
       "      <th>fips</th>\n",
       "      <th>pct_white_2017</th>\n",
       "      <th>pct_hispanic_2017</th>\n",
       "      <th>pct_asian_2017</th>\n",
       "      <th>pct_black_2017</th>\n",
       "      <th>pct_other_two_race_2017</th>\n",
       "      <th>county_name</th>\n",
       "      <th>total_pop_2017</th>\n",
       "      <th>pop_density_2017</th>\n",
       "      <th>pct_above_200_pov_2017</th>\n",
       "      <th>...</th>\n",
       "      <th>flag_jobs</th>\n",
       "      <th>flag_jfit</th>\n",
       "      <th>flag_excluded</th>\n",
       "      <th>placenm</th>\n",
       "      <th>oppFlag</th>\n",
       "      <th>jobFlag</th>\n",
       "      <th>finalFlag</th>\n",
       "      <th>jfitOppFlag</th>\n",
       "      <th>jobsOppFlag</th>\n",
       "      <th>distOppFlag</th>\n",
       "    </tr>\n",
       "  </thead>\n",
       "  <tbody>\n",
       "    <tr>\n",
       "      <th>0</th>\n",
       "      <td>6083002806</td>\n",
       "      <td>0.520165</td>\n",
       "      <td>0.393416</td>\n",
       "      <td>0.009465</td>\n",
       "      <td>0.035391</td>\n",
       "      <td>0.041564</td>\n",
       "      <td>Santa Barbara</td>\n",
       "      <td>2430.0</td>\n",
       "      <td>2970.660147</td>\n",
       "      <td>0.681781</td>\n",
       "      <td>...</td>\n",
       "      <td>0</td>\n",
       "      <td>0</td>\n",
       "      <td>0</td>\n",
       "      <td>Lompoc City</td>\n",
       "      <td>0</td>\n",
       "      <td>0</td>\n",
       "      <td>0</td>\n",
       "      <td>0</td>\n",
       "      <td>0</td>\n",
       "      <td>0</td>\n",
       "    </tr>\n",
       "    <tr>\n",
       "      <th>1</th>\n",
       "      <td>6083002913</td>\n",
       "      <td>0.823986</td>\n",
       "      <td>0.131559</td>\n",
       "      <td>0.036185</td>\n",
       "      <td>0.004135</td>\n",
       "      <td>0.004135</td>\n",
       "      <td>Santa Barbara</td>\n",
       "      <td>3869.0</td>\n",
       "      <td>4655.836342</td>\n",
       "      <td>0.812500</td>\n",
       "      <td>...</td>\n",
       "      <td>1</td>\n",
       "      <td>1</td>\n",
       "      <td>0</td>\n",
       "      <td>NaN</td>\n",
       "      <td>1</td>\n",
       "      <td>1</td>\n",
       "      <td>1</td>\n",
       "      <td>1</td>\n",
       "      <td>1</td>\n",
       "      <td>0</td>\n",
       "    </tr>\n",
       "    <tr>\n",
       "      <th>2</th>\n",
       "      <td>6083002914</td>\n",
       "      <td>0.619019</td>\n",
       "      <td>0.218842</td>\n",
       "      <td>0.128470</td>\n",
       "      <td>0.001181</td>\n",
       "      <td>0.032487</td>\n",
       "      <td>Santa Barbara</td>\n",
       "      <td>3386.0</td>\n",
       "      <td>4857.962697</td>\n",
       "      <td>0.911695</td>\n",
       "      <td>...</td>\n",
       "      <td>0</td>\n",
       "      <td>1</td>\n",
       "      <td>0</td>\n",
       "      <td>Goleta City</td>\n",
       "      <td>1</td>\n",
       "      <td>1</td>\n",
       "      <td>1</td>\n",
       "      <td>1</td>\n",
       "      <td>0</td>\n",
       "      <td>1</td>\n",
       "    </tr>\n",
       "    <tr>\n",
       "      <th>3</th>\n",
       "      <td>6083000400</td>\n",
       "      <td>0.722048</td>\n",
       "      <td>0.169470</td>\n",
       "      <td>0.070227</td>\n",
       "      <td>0.000000</td>\n",
       "      <td>0.038255</td>\n",
       "      <td>Santa Barbara</td>\n",
       "      <td>5411.0</td>\n",
       "      <td>6814.861461</td>\n",
       "      <td>0.725189</td>\n",
       "      <td>...</td>\n",
       "      <td>1</td>\n",
       "      <td>1</td>\n",
       "      <td>0</td>\n",
       "      <td>Santa Barbara City</td>\n",
       "      <td>1</td>\n",
       "      <td>1</td>\n",
       "      <td>1</td>\n",
       "      <td>1</td>\n",
       "      <td>1</td>\n",
       "      <td>1</td>\n",
       "    </tr>\n",
       "    <tr>\n",
       "      <th>4</th>\n",
       "      <td>6083001203</td>\n",
       "      <td>0.743480</td>\n",
       "      <td>0.181248</td>\n",
       "      <td>0.066689</td>\n",
       "      <td>0.002971</td>\n",
       "      <td>0.005612</td>\n",
       "      <td>Santa Barbara</td>\n",
       "      <td>3029.0</td>\n",
       "      <td>4460.972018</td>\n",
       "      <td>0.621112</td>\n",
       "      <td>...</td>\n",
       "      <td>1</td>\n",
       "      <td>1</td>\n",
       "      <td>0</td>\n",
       "      <td>Santa Barbara City</td>\n",
       "      <td>1</td>\n",
       "      <td>1</td>\n",
       "      <td>1</td>\n",
       "      <td>1</td>\n",
       "      <td>1</td>\n",
       "      <td>1</td>\n",
       "    </tr>\n",
       "  </tbody>\n",
       "</table>\n",
       "<p>5 rows × 39 columns</p>\n",
       "</div>"
      ],
      "text/plain": [
       "         fips  pct_white_2017  pct_hispanic_2017  pct_asian_2017  \\\n",
       "0  6083002806        0.520165           0.393416        0.009465   \n",
       "1  6083002913        0.823986           0.131559        0.036185   \n",
       "2  6083002914        0.619019           0.218842        0.128470   \n",
       "3  6083000400        0.722048           0.169470        0.070227   \n",
       "4  6083001203        0.743480           0.181248        0.066689   \n",
       "\n",
       "   pct_black_2017  pct_other_two_race_2017    county_name  total_pop_2017  \\\n",
       "0        0.035391                 0.041564  Santa Barbara          2430.0   \n",
       "1        0.004135                 0.004135  Santa Barbara          3869.0   \n",
       "2        0.001181                 0.032487  Santa Barbara          3386.0   \n",
       "3        0.000000                 0.038255  Santa Barbara          5411.0   \n",
       "4        0.002971                 0.005612  Santa Barbara          3029.0   \n",
       "\n",
       "   pop_density_2017  pct_above_200_pov_2017  ...  flag_jobs  flag_jfit  \\\n",
       "0       2970.660147                0.681781  ...          0          0   \n",
       "1       4655.836342                0.812500  ...          1          1   \n",
       "2       4857.962697                0.911695  ...          0          1   \n",
       "3       6814.861461                0.725189  ...          1          1   \n",
       "4       4460.972018                0.621112  ...          1          1   \n",
       "\n",
       "   flag_excluded             placenm  oppFlag  jobFlag  finalFlag  \\\n",
       "0              0         Lompoc City        0        0          0   \n",
       "1              0                 NaN        1        1          1   \n",
       "2              0         Goleta City        1        1          1   \n",
       "3              0  Santa Barbara City        1        1          1   \n",
       "4              0  Santa Barbara City        1        1          1   \n",
       "\n",
       "   jfitOppFlag  jobsOppFlag  distOppFlag  \n",
       "0            0            0            0  \n",
       "1            1            1            0  \n",
       "2            1            0            1  \n",
       "3            1            1            1  \n",
       "4            1            1            1  \n",
       "\n",
       "[5 rows x 39 columns]"
      ]
     },
     "execution_count": 7,
     "metadata": {},
     "output_type": "execute_result"
    }
   ],
   "source": [
    "# TODO: Load finalData.csv from data/raw \n",
    "jobs_data = pd.read_csv('data/raw/finalData.csv')\n",
    "\n",
    "# Inspect the head of the DataFrame\n",
    "jobs_data.head()"
   ]
  },
  {
   "cell_type": "code",
   "execution_count": 8,
   "metadata": {},
   "outputs": [
    {
     "data": {
      "text/html": [
       "<div>\n",
       "<style scoped>\n",
       "    .dataframe tbody tr th:only-of-type {\n",
       "        vertical-align: middle;\n",
       "    }\n",
       "\n",
       "    .dataframe tbody tr th {\n",
       "        vertical-align: top;\n",
       "    }\n",
       "\n",
       "    .dataframe thead th {\n",
       "        text-align: right;\n",
       "    }\n",
       "</style>\n",
       "<table border=\"1\" class=\"dataframe\">\n",
       "  <thead>\n",
       "    <tr style=\"text-align: right;\">\n",
       "      <th></th>\n",
       "      <th>id</th>\n",
       "      <th>fips</th>\n",
       "      <th>geometry</th>\n",
       "    </tr>\n",
       "  </thead>\n",
       "  <tbody>\n",
       "    <tr>\n",
       "      <th>1168</th>\n",
       "      <td>None</td>\n",
       "      <td>06037101110</td>\n",
       "      <td>POLYGON ((-118.29944 34.25597, -118.30228 34.2...</td>\n",
       "    </tr>\n",
       "    <tr>\n",
       "      <th>1169</th>\n",
       "      <td>None</td>\n",
       "      <td>06037101122</td>\n",
       "      <td>POLYGON ((-118.27745 34.25992, -118.27819 34.2...</td>\n",
       "    </tr>\n",
       "    <tr>\n",
       "      <th>1170</th>\n",
       "      <td>None</td>\n",
       "      <td>06037101210</td>\n",
       "      <td>POLYGON ((-118.29944 34.25597, -118.29106 34.2...</td>\n",
       "    </tr>\n",
       "    <tr>\n",
       "      <th>1171</th>\n",
       "      <td>None</td>\n",
       "      <td>06037101220</td>\n",
       "      <td>POLYGON ((-118.27608 34.24648, -118.27944 34.2...</td>\n",
       "    </tr>\n",
       "    <tr>\n",
       "      <th>1172</th>\n",
       "      <td>None</td>\n",
       "      <td>06037101300</td>\n",
       "      <td>POLYGON ((-118.26526 34.25236, -118.26532 34.2...</td>\n",
       "    </tr>\n",
       "  </tbody>\n",
       "</table>\n",
       "</div>"
      ],
      "text/plain": [
       "        id         fips                                           geometry\n",
       "1168  None  06037101110  POLYGON ((-118.29944 34.25597, -118.30228 34.2...\n",
       "1169  None  06037101122  POLYGON ((-118.27745 34.25992, -118.27819 34.2...\n",
       "1170  None  06037101210  POLYGON ((-118.29944 34.25597, -118.29106 34.2...\n",
       "1171  None  06037101220  POLYGON ((-118.27608 34.24648, -118.27944 34.2...\n",
       "1172  None  06037101300  POLYGON ((-118.26526 34.25236, -118.26532 34.2..."
      ]
     },
     "execution_count": 8,
     "metadata": {},
     "output_type": "execute_result"
    }
   ],
   "source": [
    "# TODO: Inspect the head of our la_geo GDF\n",
    "la_geo.head()"
   ]
  },
  {
   "cell_type": "markdown",
   "metadata": {},
   "source": [
    "You should be able to see a field that we can use for joining. However, those especially astute will notice a slight difference betweeen the two fields; one has a leading `0` while the other does not. We can fix this by using Python's [Zfill](https://python-reference.readthedocs.io/en/latest/docs/str/zfill.html) string method (in this case, let's keep both columns as strings, wthough we also could have converted both to numeric types). Go ahead and replace the problematic column with the extra preceeding `0`, preserving the column name. Then join both dataframes to create one unified GeoDataFrame.\n",
    "\n",
    "\n",
    "*Hint: You can define a simple function that uses zfill to add a 0 to each string, then use pandas' apply method to apply it to the entire column.*"
   ]
  },
  {
   "cell_type": "markdown",
   "metadata": {},
   "source": [
    "*Unclear if should be using larger jobs_shapes or the filtered la_geo here.*\n",
    "*Instructions in below cell imply jobs_shapes but la_geo seems to make more sense for rest of excercise.*"
   ]
  },
  {
   "cell_type": "code",
   "execution_count": 9,
   "metadata": {},
   "outputs": [
    {
     "name": "stdout",
     "output_type": "stream",
     "text": [
      "Length of Shapes: 2243\n",
      "Length of Data: 8057\n",
      "Length of Merged DF: 2243\n"
     ]
    },
    {
     "data": {
      "text/html": [
       "<div>\n",
       "<style scoped>\n",
       "    .dataframe tbody tr th:only-of-type {\n",
       "        vertical-align: middle;\n",
       "    }\n",
       "\n",
       "    .dataframe tbody tr th {\n",
       "        vertical-align: top;\n",
       "    }\n",
       "\n",
       "    .dataframe thead th {\n",
       "        text-align: right;\n",
       "    }\n",
       "</style>\n",
       "<table border=\"1\" class=\"dataframe\">\n",
       "  <thead>\n",
       "    <tr style=\"text-align: right;\">\n",
       "      <th></th>\n",
       "      <th>id</th>\n",
       "      <th>fips</th>\n",
       "      <th>geometry</th>\n",
       "      <th>pct_white_2017</th>\n",
       "      <th>pct_hispanic_2017</th>\n",
       "      <th>pct_asian_2017</th>\n",
       "      <th>pct_black_2017</th>\n",
       "      <th>pct_other_two_race_2017</th>\n",
       "      <th>county_name</th>\n",
       "      <th>total_pop_2017</th>\n",
       "      <th>...</th>\n",
       "      <th>flag_jobs</th>\n",
       "      <th>flag_jfit</th>\n",
       "      <th>flag_excluded</th>\n",
       "      <th>placenm</th>\n",
       "      <th>oppFlag</th>\n",
       "      <th>jobFlag</th>\n",
       "      <th>finalFlag</th>\n",
       "      <th>jfitOppFlag</th>\n",
       "      <th>jobsOppFlag</th>\n",
       "      <th>distOppFlag</th>\n",
       "    </tr>\n",
       "  </thead>\n",
       "  <tbody>\n",
       "    <tr>\n",
       "      <th>0</th>\n",
       "      <td>None</td>\n",
       "      <td>06037101110</td>\n",
       "      <td>POLYGON ((-118.29944 34.25597, -118.30228 34.2...</td>\n",
       "      <td>0.541174</td>\n",
       "      <td>0.371222</td>\n",
       "      <td>0.061761</td>\n",
       "      <td>0.011389</td>\n",
       "      <td>0.014455</td>\n",
       "      <td>Los Angeles</td>\n",
       "      <td>4566.0</td>\n",
       "      <td>...</td>\n",
       "      <td>0</td>\n",
       "      <td>0</td>\n",
       "      <td>0</td>\n",
       "      <td>Los Angeles City</td>\n",
       "      <td>0</td>\n",
       "      <td>0</td>\n",
       "      <td>0</td>\n",
       "      <td>0</td>\n",
       "      <td>0</td>\n",
       "      <td>0</td>\n",
       "    </tr>\n",
       "    <tr>\n",
       "      <th>1</th>\n",
       "      <td>None</td>\n",
       "      <td>06037101122</td>\n",
       "      <td>POLYGON ((-118.27745 34.25992, -118.27819 34.2...</td>\n",
       "      <td>0.815274</td>\n",
       "      <td>0.089426</td>\n",
       "      <td>0.082572</td>\n",
       "      <td>0.000000</td>\n",
       "      <td>0.012728</td>\n",
       "      <td>Los Angeles</td>\n",
       "      <td>3064.0</td>\n",
       "      <td>...</td>\n",
       "      <td>0</td>\n",
       "      <td>0</td>\n",
       "      <td>0</td>\n",
       "      <td>Los Angeles City</td>\n",
       "      <td>0</td>\n",
       "      <td>0</td>\n",
       "      <td>0</td>\n",
       "      <td>0</td>\n",
       "      <td>0</td>\n",
       "      <td>0</td>\n",
       "    </tr>\n",
       "    <tr>\n",
       "      <th>2</th>\n",
       "      <td>None</td>\n",
       "      <td>06037101210</td>\n",
       "      <td>POLYGON ((-118.29944 34.25597, -118.29106 34.2...</td>\n",
       "      <td>0.411716</td>\n",
       "      <td>0.527387</td>\n",
       "      <td>0.024657</td>\n",
       "      <td>0.028463</td>\n",
       "      <td>0.007778</td>\n",
       "      <td>Los Angeles</td>\n",
       "      <td>6043.0</td>\n",
       "      <td>...</td>\n",
       "      <td>0</td>\n",
       "      <td>0</td>\n",
       "      <td>0</td>\n",
       "      <td>Los Angeles City</td>\n",
       "      <td>0</td>\n",
       "      <td>0</td>\n",
       "      <td>0</td>\n",
       "      <td>0</td>\n",
       "      <td>0</td>\n",
       "      <td>0</td>\n",
       "    </tr>\n",
       "    <tr>\n",
       "      <th>3</th>\n",
       "      <td>None</td>\n",
       "      <td>06037101220</td>\n",
       "      <td>POLYGON ((-118.27608 34.24648, -118.27944 34.2...</td>\n",
       "      <td>0.504790</td>\n",
       "      <td>0.305090</td>\n",
       "      <td>0.118263</td>\n",
       "      <td>0.015868</td>\n",
       "      <td>0.055988</td>\n",
       "      <td>Los Angeles</td>\n",
       "      <td>3340.0</td>\n",
       "      <td>...</td>\n",
       "      <td>0</td>\n",
       "      <td>0</td>\n",
       "      <td>0</td>\n",
       "      <td>Los Angeles City</td>\n",
       "      <td>0</td>\n",
       "      <td>0</td>\n",
       "      <td>0</td>\n",
       "      <td>0</td>\n",
       "      <td>0</td>\n",
       "      <td>0</td>\n",
       "    </tr>\n",
       "    <tr>\n",
       "      <th>4</th>\n",
       "      <td>None</td>\n",
       "      <td>06037101300</td>\n",
       "      <td>POLYGON ((-118.26526 34.25236, -118.26532 34.2...</td>\n",
       "      <td>0.817036</td>\n",
       "      <td>0.092882</td>\n",
       "      <td>0.057176</td>\n",
       "      <td>0.026138</td>\n",
       "      <td>0.006768</td>\n",
       "      <td>Los Angeles</td>\n",
       "      <td>4285.0</td>\n",
       "      <td>...</td>\n",
       "      <td>0</td>\n",
       "      <td>0</td>\n",
       "      <td>0</td>\n",
       "      <td>Los Angeles City</td>\n",
       "      <td>1</td>\n",
       "      <td>0</td>\n",
       "      <td>0</td>\n",
       "      <td>0</td>\n",
       "      <td>0</td>\n",
       "      <td>0</td>\n",
       "    </tr>\n",
       "  </tbody>\n",
       "</table>\n",
       "<p>5 rows × 41 columns</p>\n",
       "</div>"
      ],
      "text/plain": [
       "     id         fips                                           geometry  \\\n",
       "0  None  06037101110  POLYGON ((-118.29944 34.25597, -118.30228 34.2...   \n",
       "1  None  06037101122  POLYGON ((-118.27745 34.25992, -118.27819 34.2...   \n",
       "2  None  06037101210  POLYGON ((-118.29944 34.25597, -118.29106 34.2...   \n",
       "3  None  06037101220  POLYGON ((-118.27608 34.24648, -118.27944 34.2...   \n",
       "4  None  06037101300  POLYGON ((-118.26526 34.25236, -118.26532 34.2...   \n",
       "\n",
       "   pct_white_2017  pct_hispanic_2017  pct_asian_2017  pct_black_2017  \\\n",
       "0        0.541174           0.371222        0.061761        0.011389   \n",
       "1        0.815274           0.089426        0.082572        0.000000   \n",
       "2        0.411716           0.527387        0.024657        0.028463   \n",
       "3        0.504790           0.305090        0.118263        0.015868   \n",
       "4        0.817036           0.092882        0.057176        0.026138   \n",
       "\n",
       "   pct_other_two_race_2017  county_name  total_pop_2017  ...  flag_jobs  \\\n",
       "0                 0.014455  Los Angeles          4566.0  ...          0   \n",
       "1                 0.012728  Los Angeles          3064.0  ...          0   \n",
       "2                 0.007778  Los Angeles          6043.0  ...          0   \n",
       "3                 0.055988  Los Angeles          3340.0  ...          0   \n",
       "4                 0.006768  Los Angeles          4285.0  ...          0   \n",
       "\n",
       "   flag_jfit  flag_excluded           placenm  oppFlag  jobFlag  finalFlag  \\\n",
       "0          0              0  Los Angeles City        0        0          0   \n",
       "1          0              0  Los Angeles City        0        0          0   \n",
       "2          0              0  Los Angeles City        0        0          0   \n",
       "3          0              0  Los Angeles City        0        0          0   \n",
       "4          0              0  Los Angeles City        1        0          0   \n",
       "\n",
       "   jfitOppFlag  jobsOppFlag  distOppFlag  \n",
       "0            0            0            0  \n",
       "1            0            0            0  \n",
       "2            0            0            0  \n",
       "3            0            0            0  \n",
       "4            0            0            0  \n",
       "\n",
       "[5 rows x 41 columns]"
      ]
     },
     "execution_count": 9,
     "metadata": {},
     "output_type": "execute_result"
    }
   ],
   "source": [
    "# TODO: Zfill correct column (convert to str type if needed) & replace with original\n",
    "jobs_data.fips = jobs_data.fips.astype('str').apply(lambda x: x.zfill(11))\n",
    "\n",
    "# TODO: Join data to GeoDataFrame\n",
    "# la_jobs_gdf = jobs_data.set_index('fips').join(la_geo.set_index('fips'), how='inner')\n",
    "la_jobs_gdf = la_geo.merge(jobs_data, on='fips')\n",
    "\n",
    "# Print a count of the length of (1) jobs_data, (2) jobs_shapes, and (3) jobs_gdf to confirm no dropped rows\n",
    "\n",
    "# print(f'Length of Shapes: {len(jobs_shapes)}')\n",
    "## Shouldn't this be LA?\n",
    "\n",
    "print(f'Length of Shapes: {len(la_geo)}')\n",
    "print(f'Length of Data: {len(jobs_data)}')\n",
    "print(f'Length of Merged DF: {len(la_jobs_gdf)}')\n",
    "\n",
    "# TODO: Inspect the head of the new merged GDF\n",
    "la_jobs_gdf.head()"
   ]
  },
  {
   "cell_type": "markdown",
   "metadata": {},
   "source": [
    "##### Step 3: Reconstruct the Scenario\n",
    "As you can see from the [web map](https://mappingopportunityca.org/), The _Mapping Opportunities in California_ map has several different Scenarios:\n",
    "* High-Opportunity\n",
    "* High-Opportunity + Jobs-Rich\n",
    "* High-Opportunity + Jobs-Housing Mismatch\n",
    "* High-Opportunity + Long In-Commutes\n",
    "* High-Opportunity + Jobs-Rich, Long In-Commutes, and/or Jobs-Housing Mismatch\n",
    "\n",
    "We are interested only in the last scenario, which we believe would have been the basis for the \"Jobs Rich\" definition for SB50. Since our new merged GeoDataFrame contains all the data to construct any of those scenarios, we are going to want to apply a *filter* to get only those areas matching all conditions. Take a look at all the flag fields at the end of `jobs_gdf` and play around turning them on/off and then testing the output of the map until you match the [web map](https://mappingopportunityca.org/)."
   ]
  },
  {
   "cell_type": "code",
   "execution_count": 10,
   "metadata": {},
   "outputs": [
    {
     "data": {
      "application/vnd.jupyter.widget-view+json": {
       "model_id": "dedf25a8d7f2429f93bbc79cc242f13d",
       "version_major": 2,
       "version_minor": 0
      },
      "text/plain": [
       "Map(center=[34, -118], controls=(ZoomControl(options=['position', 'zoom_in_text', 'zoom_in_title', 'zoom_out_t…"
      ]
     },
     "metadata": {},
     "output_type": "display_data"
    }
   ],
   "source": [
    "# TODO: Apply filters to data\n",
    "la_jobs_gdf['sum_flags'] = (la_jobs_gdf['flag_above200'] +\n",
    "                                    la_jobs_gdf['flag_bach'] +\n",
    "                                    la_jobs_gdf['flag_emp'] +\n",
    "                                    la_jobs_gdf['flag_read'] +\n",
    "                                    la_jobs_gdf['flag_frpm'] +\n",
    "                                    la_jobs_gdf['flag_grad'])\n",
    "#Replicates their \"at least four\" methodology\n",
    "la_jobs_filtered_gdf = la_jobs_gdf[la_jobs_gdf['sum_flags'] >= 4]\n",
    "\n",
    "# TODO: Create a new map object and add your filtered GDF (or reuse the one before)\n",
    "#       and keep testing until you get the right set of filters on your data.\n",
    "m = Map(center=(34, -118), zoom = 10, basemap= basemaps.Esri.WorldTopoMap)\n",
    "\n",
    "final_gd = GeoData(geo_dataframe = la_jobs_filtered_gdf,\n",
    "                   style={'color': 'black', 'fillColor': 'green', 'opacity':0.5, 'weight':1.9, 'dashArray':'2', 'fillOpacity':0.3},\n",
    "                   hover_style={'fillColor': 'red' , 'fillOpacity': 0.2},\n",
    "                   name = 'Jobs')\n",
    "\n",
    "# Add the GeoData Object as Map Layer\n",
    "m.add_layer(final_gd)\n",
    "\n",
    "m"
   ]
  },
  {
   "cell_type": "markdown",
   "metadata": {},
   "source": [
    "Great. Now we've filtered to areas in Los Angeles County defined as \"Jobs Rich\". Now that we've applied all our filters and confirmed that everything looks good, go ahead and save our final data as a geojson file `lacounty_opp_wgs84.geojson` within the `data/processed` folder."
   ]
  },
  {
   "cell_type": "code",
   "execution_count": 11,
   "metadata": {},
   "outputs": [],
   "source": [
    "# TODO: Save to data/processed\n",
    "la_jobs_filtered_gdf.to_file(\"data/processed/lacounty_opp_wgs84.geojson\", driver='GeoJSON')"
   ]
  },
  {
   "cell_type": "markdown",
   "metadata": {},
   "source": [
    "## Exempt Areas\n",
    "### Sensitive Communities\n",
    "During the first proprosal of SB375, California Senator Scott Weiner received quite a bit of blowback from those who were worried that his proposal would lead to rapid gentrification of neighborhoods and the pushout of renters who could no longer afford their rents. To address these concerns, SB 50 included a provision that exempted certain areas from SB50 that may face adverse impacts by the bill. Sensitive Communities were defined by in the bill as:\n",
    "* 'High Segregation & Poverty' or 'Low Resource' in the [TCAC Opportunity Maps](https://www.treasurer.ca.gov/ctcac/opportunity.asp)\n",
    "* Areas with [CalEnviroScreen](https://oehha.ca.gov/calenviroscreen/report/calenviroscreen-30) scores in the top 25th percentile statewide\n",
    "\n",
    "##### Step 1: Load & Filter TCAC Data\n",
    "The TCAC data is provided as an excel data file that needs to be joined to census tract boundaries. Fortunately, we've already done the work of getting the census boundary file for LA County, saved as `data/processed/la_geo_wgs84.geojson`. Download the _2019 Statewide Summary Table_ from the TCAC Webpage and save the \"LosAngeles\" sheet as a CSV file to `data/raw/la_tcac.csv`. Then, load it back into our notebook and join it to our data. "
   ]
  },
  {
   "cell_type": "code",
   "execution_count": 12,
   "metadata": {},
   "outputs": [],
   "source": [
    "la_tcac = pd.read_csv('data/raw/la_tcac.csv')\n"
   ]
  },
  {
   "cell_type": "code",
   "execution_count": 13,
   "metadata": {},
   "outputs": [
    {
     "name": "stdout",
     "output_type": "stream",
     "text": [
      "There are 2243 rows in the pre-join LA County Census Tract File.\n",
      "There are 2224 rows in the post-join LA TCAC GDF.\n"
     ]
    },
    {
     "data": {
      "text/html": [
       "<div>\n",
       "<style scoped>\n",
       "    .dataframe tbody tr th:only-of-type {\n",
       "        vertical-align: middle;\n",
       "    }\n",
       "\n",
       "    .dataframe tbody tr th {\n",
       "        vertical-align: top;\n",
       "    }\n",
       "\n",
       "    .dataframe thead th {\n",
       "        text-align: right;\n",
       "    }\n",
       "</style>\n",
       "<table border=\"1\" class=\"dataframe\">\n",
       "  <thead>\n",
       "    <tr style=\"text-align: right;\">\n",
       "      <th></th>\n",
       "      <th>id</th>\n",
       "      <th>fips</th>\n",
       "      <th>geometry</th>\n",
       "      <th>County</th>\n",
       "      <th>County ID</th>\n",
       "      <th>Economic Domain Average Z Scores (by region)</th>\n",
       "      <th>Environmental Domain Average Z Scores (by region)</th>\n",
       "      <th>Education Domain Average Z Scores (by region)</th>\n",
       "      <th>Composite Index Score</th>\n",
       "      <th>Final Category</th>\n",
       "      <th>Unnamed: 8</th>\n",
       "    </tr>\n",
       "  </thead>\n",
       "  <tbody>\n",
       "    <tr>\n",
       "      <th>0</th>\n",
       "      <td>None</td>\n",
       "      <td>06037101110</td>\n",
       "      <td>POLYGON ((-118.29944 34.25597, -118.30228 34.2...</td>\n",
       "      <td>Los Angeles</td>\n",
       "      <td>6037.0</td>\n",
       "      <td>-0.460</td>\n",
       "      <td>0.356</td>\n",
       "      <td>-0.250</td>\n",
       "      <td>-0.118</td>\n",
       "      <td>Moderate Resource</td>\n",
       "      <td>NaN</td>\n",
       "    </tr>\n",
       "    <tr>\n",
       "      <th>1</th>\n",
       "      <td>None</td>\n",
       "      <td>06037101122</td>\n",
       "      <td>POLYGON ((-118.27745 34.25992, -118.27819 34.2...</td>\n",
       "      <td>Los Angeles</td>\n",
       "      <td>6037.0</td>\n",
       "      <td>0.186</td>\n",
       "      <td>0.413</td>\n",
       "      <td>-0.250</td>\n",
       "      <td>0.116</td>\n",
       "      <td>High Resource</td>\n",
       "      <td>NaN</td>\n",
       "    </tr>\n",
       "    <tr>\n",
       "      <th>2</th>\n",
       "      <td>None</td>\n",
       "      <td>06037101210</td>\n",
       "      <td>POLYGON ((-118.29944 34.25597, -118.29106 34.2...</td>\n",
       "      <td>Los Angeles</td>\n",
       "      <td>6037.0</td>\n",
       "      <td>-0.634</td>\n",
       "      <td>0.334</td>\n",
       "      <td>-0.250</td>\n",
       "      <td>-0.183</td>\n",
       "      <td>Moderate Resource</td>\n",
       "      <td>NaN</td>\n",
       "    </tr>\n",
       "    <tr>\n",
       "      <th>3</th>\n",
       "      <td>None</td>\n",
       "      <td>06037101220</td>\n",
       "      <td>POLYGON ((-118.27608 34.24648, -118.27944 34.2...</td>\n",
       "      <td>Los Angeles</td>\n",
       "      <td>6037.0</td>\n",
       "      <td>-0.552</td>\n",
       "      <td>0.312</td>\n",
       "      <td>-0.266</td>\n",
       "      <td>-0.169</td>\n",
       "      <td>Moderate Resource</td>\n",
       "      <td>NaN</td>\n",
       "    </tr>\n",
       "    <tr>\n",
       "      <th>4</th>\n",
       "      <td>None</td>\n",
       "      <td>06037101300</td>\n",
       "      <td>POLYGON ((-118.26526 34.25236, -118.26532 34.2...</td>\n",
       "      <td>Los Angeles</td>\n",
       "      <td>6037.0</td>\n",
       "      <td>-0.179</td>\n",
       "      <td>0.066</td>\n",
       "      <td>0.574</td>\n",
       "      <td>0.154</td>\n",
       "      <td>High Resource</td>\n",
       "      <td>NaN</td>\n",
       "    </tr>\n",
       "  </tbody>\n",
       "</table>\n",
       "</div>"
      ],
      "text/plain": [
       "     id         fips                                           geometry  \\\n",
       "0  None  06037101110  POLYGON ((-118.29944 34.25597, -118.30228 34.2...   \n",
       "1  None  06037101122  POLYGON ((-118.27745 34.25992, -118.27819 34.2...   \n",
       "2  None  06037101210  POLYGON ((-118.29944 34.25597, -118.29106 34.2...   \n",
       "3  None  06037101220  POLYGON ((-118.27608 34.24648, -118.27944 34.2...   \n",
       "4  None  06037101300  POLYGON ((-118.26526 34.25236, -118.26532 34.2...   \n",
       "\n",
       "        County  County ID  Economic Domain Average Z Scores (by region)  \\\n",
       "0  Los Angeles     6037.0                                        -0.460   \n",
       "1  Los Angeles     6037.0                                         0.186   \n",
       "2  Los Angeles     6037.0                                        -0.634   \n",
       "3  Los Angeles     6037.0                                        -0.552   \n",
       "4  Los Angeles     6037.0                                        -0.179   \n",
       "\n",
       "   Environmental Domain Average Z Scores (by region)  \\\n",
       "0                                              0.356   \n",
       "1                                              0.413   \n",
       "2                                              0.334   \n",
       "3                                              0.312   \n",
       "4                                              0.066   \n",
       "\n",
       "   Education Domain Average Z Scores (by region)  Composite Index Score  \\\n",
       "0                                         -0.250                 -0.118   \n",
       "1                                         -0.250                  0.116   \n",
       "2                                         -0.250                 -0.183   \n",
       "3                                         -0.266                 -0.169   \n",
       "4                                          0.574                  0.154   \n",
       "\n",
       "      Final Category  Unnamed: 8  \n",
       "0  Moderate Resource         NaN  \n",
       "1      High Resource         NaN  \n",
       "2  Moderate Resource         NaN  \n",
       "3  Moderate Resource         NaN  \n",
       "4      High Resource         NaN  "
      ]
     },
     "execution_count": 13,
     "metadata": {},
     "output_type": "execute_result"
    }
   ],
   "source": [
    "# TODO: Load the LA TCAC data (after downloading and converting to CSV)\n",
    "la_tcac = pd.read_csv('data/raw/la_tcac.csv')\n",
    "\n",
    "# TODO: Perform attribute join of TCAC data to Census Tract boundaries\n",
    "la_tcac = la_tcac.rename(columns={'Tract FIPS Code':'fips'})\n",
    "la_tcac['fips'] = la_tcac['fips'].astype('str').apply(lambda x: x.zfill(11))\n",
    "\n",
    "la_tcac_gdf = la_geo.merge(la_tcac, on='fips')\n",
    "\n",
    "\n",
    "# Print rowcounts before & after merge\n",
    "print(f'There are {len(la_geo)} rows in the pre-join LA County Census Tract File.')\n",
    "print(f'There are {len(la_tcac_gdf)} rows in the post-join LA TCAC GDF.')\n",
    "\n",
    "# TODO: Check the head of the merged GDF for final confirmation\n",
    "la_tcac_gdf.head()"
   ]
  },
  {
   "cell_type": "markdown",
   "metadata": {},
   "source": [
    "Sensitive communities are defined as those that have the either the designation of 'High Segregation and Poverty' or 'Low Resource'. Let's filter for those two labels in the 'Final Category' column of our GeoDataFrame and then save to disk as `data/processed/la_tcac_filtered_wgs84.geojson`."
   ]
  },
  {
   "cell_type": "code",
   "execution_count": 14,
   "metadata": {},
   "outputs": [
    {
     "data": {
      "text/plain": [
       "array(['Moderate Resource', 'High Resource', 'Low Resource',\n",
       "       'High Segregation & Poverty', 'Highest Resource', nan],\n",
       "      dtype=object)"
      ]
     },
     "execution_count": 14,
     "metadata": {},
     "output_type": "execute_result"
    }
   ],
   "source": [
    "la_tcac_gdf['Final Category'].unique()"
   ]
  },
  {
   "cell_type": "code",
   "execution_count": 15,
   "metadata": {},
   "outputs": [
    {
     "name": "stdout",
     "output_type": "stream",
     "text": [
      "There are 2224 rows in the pre-filter LA TCAC GDF\n",
      "There are 848 rows in the post-filter LA TCAC GDF.\n"
     ]
    }
   ],
   "source": [
    "# TODO: Filter GDF\n",
    "la_tcac_filtered_gdf = la_tcac_gdf[la_tcac_gdf['Final Category'].isin(\n",
    "    ['High Segregation & Poverty', 'Low Resource'])]\n",
    "\n",
    "# TODO: Print rowcounts before/after filter for confirmation\n",
    "print(f'There are {len(la_tcac_gdf)} rows in the pre-filter LA TCAC GDF')\n",
    "print(f'There are {len(la_tcac_filtered_gdf)} rows in the post-filter LA TCAC GDF.')\n",
    "# TODO: Save to disk\n",
    "la_tcac_filtered_gdf.to_file('data/processed/la_tcac_filtered_wgs84.geojson', driver='GeoJSON')"
   ]
  },
  {
   "cell_type": "markdown",
   "metadata": {},
   "source": [
    "##### Step 2: Load CalEnviroScreen Data\n",
    "All of the data used in the calculation of the CalEnviroScreen scores can be found [here](https://oehha.ca.gov/calenviroscreen/report/calenviroscreen-30). There are a few different formats provided: Shapefile, ArcGIS GeoDatabase, Google Earth KML file, and Spreadsheet. Since we already have census tracts, we can join the values from the spreadsheet to our geojson census tracts. Download the `ces3results.xlsx` file, save the first sheet ('CES 3.0 2018 Update') as `data/raw/ces3results_2018update.csv`, then load it into our notebook and join with our LA Census Tract GeoJSON file."
   ]
  },
  {
   "cell_type": "code",
   "execution_count": 16,
   "metadata": {},
   "outputs": [],
   "source": [
    "ces3results = pd.read_csv('data/raw/ces3results_2018update.csv')"
   ]
  },
  {
   "cell_type": "code",
   "execution_count": 17,
   "metadata": {},
   "outputs": [
    {
     "name": "stdout",
     "output_type": "stream",
     "text": [
      "There are 2243 rows in the pre-join LA County Census Tract File.\n",
      "There are 2243 rows in the post-join LA CES3 GDF.\n"
     ]
    },
    {
     "data": {
      "text/html": [
       "<div>\n",
       "<style scoped>\n",
       "    .dataframe tbody tr th:only-of-type {\n",
       "        vertical-align: middle;\n",
       "    }\n",
       "\n",
       "    .dataframe tbody tr th {\n",
       "        vertical-align: top;\n",
       "    }\n",
       "\n",
       "    .dataframe thead th {\n",
       "        text-align: right;\n",
       "    }\n",
       "</style>\n",
       "<table border=\"1\" class=\"dataframe\">\n",
       "  <thead>\n",
       "    <tr style=\"text-align: right;\">\n",
       "      <th></th>\n",
       "      <th>id</th>\n",
       "      <th>fips</th>\n",
       "      <th>geometry</th>\n",
       "      <th>Total Population</th>\n",
       "      <th>California County</th>\n",
       "      <th>ZIP</th>\n",
       "      <th>Nearby City \\n(to help approximate location only)</th>\n",
       "      <th>Longitude</th>\n",
       "      <th>Latitude</th>\n",
       "      <th>CES 3.0 Score</th>\n",
       "      <th>...</th>\n",
       "      <th>Linguistic Isolation Pctl</th>\n",
       "      <th>Poverty</th>\n",
       "      <th>Poverty Pctl</th>\n",
       "      <th>Unemployment</th>\n",
       "      <th>Unemployment Pctl</th>\n",
       "      <th>Housing Burden</th>\n",
       "      <th>Housing Burden Pctl</th>\n",
       "      <th>Pop. Char.</th>\n",
       "      <th>Pop. Char. Score</th>\n",
       "      <th>Pop. Char. Pctl</th>\n",
       "    </tr>\n",
       "  </thead>\n",
       "  <tbody>\n",
       "    <tr>\n",
       "      <th>0</th>\n",
       "      <td>None</td>\n",
       "      <td>06037101110</td>\n",
       "      <td>POLYGON ((-118.29944 34.25597, -118.30228 34.2...</td>\n",
       "      <td>4731</td>\n",
       "      <td>Los Angeles</td>\n",
       "      <td>91042</td>\n",
       "      <td>Tujunga</td>\n",
       "      <td>-118.292987</td>\n",
       "      <td>34.259474</td>\n",
       "      <td>22.67</td>\n",
       "      <td>...</td>\n",
       "      <td>64.63</td>\n",
       "      <td>41.6</td>\n",
       "      <td>61.94</td>\n",
       "      <td>8.8</td>\n",
       "      <td>45.97</td>\n",
       "      <td>29.7</td>\n",
       "      <td>87.19</td>\n",
       "      <td>56.12</td>\n",
       "      <td>5.82</td>\n",
       "      <td>59.24</td>\n",
       "    </tr>\n",
       "    <tr>\n",
       "      <th>1</th>\n",
       "      <td>None</td>\n",
       "      <td>06037101122</td>\n",
       "      <td>POLYGON ((-118.27745 34.25992, -118.27819 34.2...</td>\n",
       "      <td>3664</td>\n",
       "      <td>Los Angeles</td>\n",
       "      <td>91042</td>\n",
       "      <td>Tujunga</td>\n",
       "      <td>-118.290147</td>\n",
       "      <td>34.267721</td>\n",
       "      <td>11.88</td>\n",
       "      <td>...</td>\n",
       "      <td>21.80</td>\n",
       "      <td>7.5</td>\n",
       "      <td>3.43</td>\n",
       "      <td>8.2</td>\n",
       "      <td>40.51</td>\n",
       "      <td>10.1</td>\n",
       "      <td>12.86</td>\n",
       "      <td>34.77</td>\n",
       "      <td>3.61</td>\n",
       "      <td>26.61</td>\n",
       "    </tr>\n",
       "    <tr>\n",
       "      <th>2</th>\n",
       "      <td>None</td>\n",
       "      <td>06037101210</td>\n",
       "      <td>POLYGON ((-118.29944 34.25597, -118.29106 34.2...</td>\n",
       "      <td>5990</td>\n",
       "      <td>Los Angeles</td>\n",
       "      <td>91042</td>\n",
       "      <td>Tujunga</td>\n",
       "      <td>-118.290731</td>\n",
       "      <td>34.252972</td>\n",
       "      <td>28.88</td>\n",
       "      <td>...</td>\n",
       "      <td>87.23</td>\n",
       "      <td>55.6</td>\n",
       "      <td>79.75</td>\n",
       "      <td>9.5</td>\n",
       "      <td>51.87</td>\n",
       "      <td>26.0</td>\n",
       "      <td>79.40</td>\n",
       "      <td>66.16</td>\n",
       "      <td>6.86</td>\n",
       "      <td>74.39</td>\n",
       "    </tr>\n",
       "    <tr>\n",
       "      <th>3</th>\n",
       "      <td>None</td>\n",
       "      <td>06037101220</td>\n",
       "      <td>POLYGON ((-118.27608 34.24648, -118.27944 34.2...</td>\n",
       "      <td>3363</td>\n",
       "      <td>Los Angeles</td>\n",
       "      <td>91042</td>\n",
       "      <td>Tujunga</td>\n",
       "      <td>-118.281632</td>\n",
       "      <td>34.251609</td>\n",
       "      <td>27.12</td>\n",
       "      <td>...</td>\n",
       "      <td>87.47</td>\n",
       "      <td>37.6</td>\n",
       "      <td>56.23</td>\n",
       "      <td>8.0</td>\n",
       "      <td>38.51</td>\n",
       "      <td>32.2</td>\n",
       "      <td>91.36</td>\n",
       "      <td>59.99</td>\n",
       "      <td>6.22</td>\n",
       "      <td>64.94</td>\n",
       "    </tr>\n",
       "    <tr>\n",
       "      <th>4</th>\n",
       "      <td>None</td>\n",
       "      <td>06037101300</td>\n",
       "      <td>POLYGON ((-118.26526 34.25236, -118.26532 34.2...</td>\n",
       "      <td>4199</td>\n",
       "      <td>Los Angeles</td>\n",
       "      <td>91042</td>\n",
       "      <td>Tujunga</td>\n",
       "      <td>-118.270999</td>\n",
       "      <td>34.248778</td>\n",
       "      <td>19.06</td>\n",
       "      <td>...</td>\n",
       "      <td>35.77</td>\n",
       "      <td>19.4</td>\n",
       "      <td>25.53</td>\n",
       "      <td>8.8</td>\n",
       "      <td>45.97</td>\n",
       "      <td>12.0</td>\n",
       "      <td>21.22</td>\n",
       "      <td>33.49</td>\n",
       "      <td>3.47</td>\n",
       "      <td>24.50</td>\n",
       "    </tr>\n",
       "  </tbody>\n",
       "</table>\n",
       "<p>5 rows × 59 columns</p>\n",
       "</div>"
      ],
      "text/plain": [
       "     id         fips                                           geometry  \\\n",
       "0  None  06037101110  POLYGON ((-118.29944 34.25597, -118.30228 34.2...   \n",
       "1  None  06037101122  POLYGON ((-118.27745 34.25992, -118.27819 34.2...   \n",
       "2  None  06037101210  POLYGON ((-118.29944 34.25597, -118.29106 34.2...   \n",
       "3  None  06037101220  POLYGON ((-118.27608 34.24648, -118.27944 34.2...   \n",
       "4  None  06037101300  POLYGON ((-118.26526 34.25236, -118.26532 34.2...   \n",
       "\n",
       "   Total Population California County    ZIP  \\\n",
       "0              4731       Los Angeles  91042   \n",
       "1              3664       Los Angeles  91042   \n",
       "2              5990       Los Angeles  91042   \n",
       "3              3363       Los Angeles  91042   \n",
       "4              4199       Los Angeles  91042   \n",
       "\n",
       "  Nearby City \\n(to help approximate location only)   Longitude   Latitude  \\\n",
       "0                                           Tujunga -118.292987  34.259474   \n",
       "1                                           Tujunga -118.290147  34.267721   \n",
       "2                                           Tujunga -118.290731  34.252972   \n",
       "3                                           Tujunga -118.281632  34.251609   \n",
       "4                                           Tujunga -118.270999  34.248778   \n",
       "\n",
       "   CES 3.0 Score  ...  Linguistic Isolation Pctl Poverty Poverty Pctl  \\\n",
       "0          22.67  ...                      64.63    41.6        61.94   \n",
       "1          11.88  ...                      21.80     7.5         3.43   \n",
       "2          28.88  ...                      87.23    55.6        79.75   \n",
       "3          27.12  ...                      87.47    37.6        56.23   \n",
       "4          19.06  ...                      35.77    19.4        25.53   \n",
       "\n",
       "   Unemployment  Unemployment Pctl  Housing Burden  Housing Burden Pctl  \\\n",
       "0           8.8              45.97            29.7                87.19   \n",
       "1           8.2              40.51            10.1                12.86   \n",
       "2           9.5              51.87            26.0                79.40   \n",
       "3           8.0              38.51            32.2                91.36   \n",
       "4           8.8              45.97            12.0                21.22   \n",
       "\n",
       "   Pop. Char.   Pop. Char. Score  Pop. Char. Pctl  \n",
       "0        56.12              5.82            59.24  \n",
       "1        34.77              3.61            26.61  \n",
       "2        66.16              6.86            74.39  \n",
       "3        59.99              6.22            64.94  \n",
       "4        33.49              3.47            24.50  \n",
       "\n",
       "[5 rows x 59 columns]"
      ]
     },
     "execution_count": 17,
     "metadata": {},
     "output_type": "execute_result"
    }
   ],
   "source": [
    "# TODO: Load data into notebook\n",
    "ces3results = pd.read_csv('data/raw/ces3results_2018update.csv')\n",
    "\n",
    "# TODO: Join to la tracts\n",
    "ces3results = ces3results.rename(columns={'Census Tract':'fips'})\n",
    "ces3results['fips'] = ces3results['fips'].astype('str').apply(lambda x: x.zfill(11))\n",
    "\n",
    "ces3_gdf = la_geo.merge(ces3results, on='fips')\n",
    "\n",
    "# TODO: Confirm the join by printing the rowcount and examining the head of the mereged GDF\n",
    "print(f'There are {len(la_geo)} rows in the pre-join LA County Census Tract File.')\n",
    "print(f'There are {len(ces3_gdf)} rows in the post-join LA CES3 GDF.')\n",
    "\n",
    "# TODO: Check the head of the merged GDF for final confirmation\n",
    "ces3_gdf.head()"
   ]
  },
  {
   "cell_type": "markdown",
   "metadata": {},
   "source": [
    "Now that we have our GeoDataFrame with CalEnviroScreen data, let's go ahead and filter for the top CES 3.0 25 Percentile range, which is the critera for excluding areas from the impacts of SB50. This is especially easy since you'll notice there is already a Yes/No Field in the 'SB 535 Disadvantaged Community' Column. Let's filter for those areas that fall within this category."
   ]
  },
  {
   "cell_type": "code",
   "execution_count": 18,
   "metadata": {},
   "outputs": [
    {
     "data": {
      "text/plain": [
       "Index(['id', 'fips', 'geometry', 'Total Population', 'California County',\n",
       "       'ZIP', 'Nearby City \\n(to help approximate location only)', 'Longitude',\n",
       "       'Latitude', 'CES 3.0 Score', ' CES 3.0 Percentile',\n",
       "       'CES 3.0 \\nPercentile Range', 'SB 535 Disadvantaged Community', 'Ozone',\n",
       "       'Ozone Pctl', 'PM2.5', 'PM2.5 Pctl', 'Diesel PM', 'Diesel PM Pctl',\n",
       "       'Drinking Water', 'Drinking Water Pctl', 'Pesticides',\n",
       "       'Pesticides Pctl', 'Tox. Release', 'Tox. Release Pctl', 'Traffic',\n",
       "       'Traffic Pctl', 'Cleanup Sites', 'Cleanup Sites Pctl',\n",
       "       'Groundwater Threats', 'Groundwater Threats Pctl', 'Haz. Waste',\n",
       "       'Haz. Waste Pctl', 'Imp. Water Bodies', 'Imp. Water Bodies Pctl',\n",
       "       'Solid Waste', 'Solid Waste Pctl', 'Pollution Burden',\n",
       "       'Pollution Burden Score', 'Pollution Burden Pctl', 'Asthma',\n",
       "       'Asthma Pctl', 'Low Birth Weight', 'Low Birth Weight Pctl',\n",
       "       'Cardiovascular Disease', 'Cardiovascular Disease Pctl', 'Education',\n",
       "       'Education Pctl', 'Linguistic Isolation', 'Linguistic Isolation Pctl',\n",
       "       'Poverty', 'Poverty Pctl', 'Unemployment', 'Unemployment Pctl',\n",
       "       'Housing Burden', 'Housing Burden Pctl', 'Pop. Char. ',\n",
       "       'Pop. Char. Score', 'Pop. Char. Pctl'],\n",
       "      dtype='object')"
      ]
     },
     "execution_count": 18,
     "metadata": {},
     "output_type": "execute_result"
    }
   ],
   "source": [
    "ces3_gdf.columns"
   ]
  },
  {
   "cell_type": "code",
   "execution_count": 19,
   "metadata": {},
   "outputs": [
    {
     "name": "stdout",
     "output_type": "stream",
     "text": [
      "There are 2243 in the pre-filtered ces3 data.\n",
      "There are 1026 in the post-filtered ces3 data.\n"
     ]
    }
   ],
   "source": [
    "# TODO: Filter for disadvantaged communities\n",
    "ces3_filtered_gdf = ces3_gdf[ces3_gdf['SB 535 Disadvantaged Community'] == 'Yes']\n",
    "\n",
    "# Print the rowcount before and after to confirm the filter\n",
    "print(f'There are {len(ces3_gdf)} in the pre-filtered ces3 data.')\n",
    "print(f'There are {len(ces3_filtered_gdf)} in the post-filtered ces3 data.')"
   ]
  },
  {
   "cell_type": "markdown",
   "metadata": {},
   "source": [
    "Finally, let's write out our filtered dataset to `data/processed/la_ces3_filtered_wgs84.geojson`."
   ]
  },
  {
   "cell_type": "code",
   "execution_count": 20,
   "metadata": {},
   "outputs": [],
   "source": [
    "# TODO: Save to disk\n",
    "ces3_filtered_gdf.to_file('data/processed/la_ces3_filtered_wgs84.geojson', driver='GeoJSON')"
   ]
  },
  {
   "cell_type": "markdown",
   "metadata": {},
   "source": [
    "### Very High Fire Hazard Severity Zones\n",
    "SB50 also excludes those areas deemed by CALFIRE as being within a Very High Fire Hazard Severity Zone. CALFIRE includes maps and GIS information regarding these zones on [their website](https://osfm.fire.ca.gov/divisions/wildfire-prevention-planning-engineering/wildland-hazards-building-codes/fire-hazard-severity-zones-maps/). Scroll down to find the data specific to LA County, and download the GIS (Shapefile) files for both the State Responsibility Area and Local Responsibility Area. Save them both to your `data/raw` folder and then read them back in as GDF objects. _Hint: Make sure you select the right driver!_ "
   ]
  },
  {
   "cell_type": "code",
   "execution_count": 21,
   "metadata": {},
   "outputs": [
    {
     "data": {
      "text/html": [
       "<div>\n",
       "<style scoped>\n",
       "    .dataframe tbody tr th:only-of-type {\n",
       "        vertical-align: middle;\n",
       "    }\n",
       "\n",
       "    .dataframe tbody tr th {\n",
       "        vertical-align: top;\n",
       "    }\n",
       "\n",
       "    .dataframe thead th {\n",
       "        text-align: right;\n",
       "    }\n",
       "</style>\n",
       "<table border=\"1\" class=\"dataframe\">\n",
       "  <thead>\n",
       "    <tr style=\"text-align: right;\">\n",
       "      <th></th>\n",
       "      <th>OBJECTID</th>\n",
       "      <th>FID_c19fhs</th>\n",
       "      <th>HAZ_CODE</th>\n",
       "      <th>HAZ_CLASS</th>\n",
       "      <th>SRA</th>\n",
       "      <th>INCORP</th>\n",
       "      <th>VH_REC</th>\n",
       "      <th>Shape_Leng</th>\n",
       "      <th>Shape_Area</th>\n",
       "      <th>geometry</th>\n",
       "    </tr>\n",
       "  </thead>\n",
       "  <tbody>\n",
       "    <tr>\n",
       "      <th>0</th>\n",
       "      <td>1</td>\n",
       "      <td>0</td>\n",
       "      <td>3</td>\n",
       "      <td>Very High</td>\n",
       "      <td>LRA</td>\n",
       "      <td>None</td>\n",
       "      <td>None</td>\n",
       "      <td>5415.460854</td>\n",
       "      <td>1.355567e+06</td>\n",
       "      <td>POLYGON ((152996.831 -469302.197, 152996.863 -...</td>\n",
       "    </tr>\n",
       "    <tr>\n",
       "      <th>1</th>\n",
       "      <td>2</td>\n",
       "      <td>1</td>\n",
       "      <td>3</td>\n",
       "      <td>Very High</td>\n",
       "      <td>LRA</td>\n",
       "      <td>None</td>\n",
       "      <td>None</td>\n",
       "      <td>2802.070818</td>\n",
       "      <td>4.236575e+05</td>\n",
       "      <td>POLYGON ((153701.703 -468506.003, 153703.873 -...</td>\n",
       "    </tr>\n",
       "    <tr>\n",
       "      <th>2</th>\n",
       "      <td>3</td>\n",
       "      <td>2</td>\n",
       "      <td>3</td>\n",
       "      <td>Very High</td>\n",
       "      <td>LRA</td>\n",
       "      <td>None</td>\n",
       "      <td>None</td>\n",
       "      <td>802.128633</td>\n",
       "      <td>3.227196e+04</td>\n",
       "      <td>POLYGON ((191491.019 -449977.144, 191494.316 -...</td>\n",
       "    </tr>\n",
       "    <tr>\n",
       "      <th>3</th>\n",
       "      <td>4</td>\n",
       "      <td>3</td>\n",
       "      <td>3</td>\n",
       "      <td>Very High</td>\n",
       "      <td>LRA</td>\n",
       "      <td>None</td>\n",
       "      <td>None</td>\n",
       "      <td>1096.587821</td>\n",
       "      <td>4.080046e+04</td>\n",
       "      <td>POLYGON ((182453.778 -445649.110, 182216.326 -...</td>\n",
       "    </tr>\n",
       "    <tr>\n",
       "      <th>4</th>\n",
       "      <td>5</td>\n",
       "      <td>4</td>\n",
       "      <td>3</td>\n",
       "      <td>Very High</td>\n",
       "      <td>LRA</td>\n",
       "      <td>None</td>\n",
       "      <td>None</td>\n",
       "      <td>59225.977459</td>\n",
       "      <td>9.379764e+06</td>\n",
       "      <td>MULTIPOLYGON (((198200.954 -446611.203, 198199...</td>\n",
       "    </tr>\n",
       "  </tbody>\n",
       "</table>\n",
       "</div>"
      ],
      "text/plain": [
       "   OBJECTID  FID_c19fhs  HAZ_CODE  HAZ_CLASS  SRA INCORP VH_REC    Shape_Leng  \\\n",
       "0         1           0         3  Very High  LRA   None   None   5415.460854   \n",
       "1         2           1         3  Very High  LRA   None   None   2802.070818   \n",
       "2         3           2         3  Very High  LRA   None   None    802.128633   \n",
       "3         4           3         3  Very High  LRA   None   None   1096.587821   \n",
       "4         5           4         3  Very High  LRA   None   None  59225.977459   \n",
       "\n",
       "     Shape_Area                                           geometry  \n",
       "0  1.355567e+06  POLYGON ((152996.831 -469302.197, 152996.863 -...  \n",
       "1  4.236575e+05  POLYGON ((153701.703 -468506.003, 153703.873 -...  \n",
       "2  3.227196e+04  POLYGON ((191491.019 -449977.144, 191494.316 -...  \n",
       "3  4.080046e+04  POLYGON ((182453.778 -445649.110, 182216.326 -...  \n",
       "4  9.379764e+06  MULTIPOLYGON (((198200.954 -446611.203, 198199...  "
      ]
     },
     "execution_count": 21,
     "metadata": {},
     "output_type": "execute_result"
    }
   ],
   "source": [
    "# TODO: Read in both shapefiles\n",
    "local_firehazard_gdf = gpd.read_file('data/raw/c19fhszl06_5/c19fhszl06_5.shp', driver='ESRI Shapefile')\n",
    "state_firehazard_gdf = gpd.read_file('data/raw/fhszs19sn/fhszs06_3_19.shp', driver='ESRI Shapefile')\n",
    "\n",
    "# TODO: Examine the head of one of the GDFs\n",
    "local_firehazard_gdf.head()"
   ]
  },
  {
   "cell_type": "markdown",
   "metadata": {},
   "source": [
    "Check the CRS of each of the files and re-project if needed. "
   ]
  },
  {
   "cell_type": "code",
   "execution_count": 22,
   "metadata": {},
   "outputs": [
    {
     "name": "stdout",
     "output_type": "stream",
     "text": [
      "epsg:3310\n",
      "PROJCS[\"NAD_1983_Albers\",GEOGCS[\"NAD83\",DATUM[\"North_American_Datum_1983\",SPHEROID[\"GRS 1980\",6378137,298.257222101,AUTHORITY[\"EPSG\",\"7019\"]],AUTHORITY[\"EPSG\",\"6269\"]],PRIMEM[\"Greenwich\",0],UNIT[\"Degree\",0.0174532925199433],AUTHORITY[\"EPSG\",\"4269\"]],PROJECTION[\"Albers_Conic_Equal_Area\"],PARAMETER[\"latitude_of_center\",0],PARAMETER[\"longitude_of_center\",-120],PARAMETER[\"standard_parallel_1\",34],PARAMETER[\"standard_parallel_2\",40.5],PARAMETER[\"false_easting\",0],PARAMETER[\"false_northing\",-4000000],UNIT[\"metre\",1,AUTHORITY[\"EPSG\",\"9001\"]],AXIS[\"Easting\",EAST],AXIS[\"Northing\",NORTH]]\n"
     ]
    }
   ],
   "source": [
    "# Check CRS and make necessary conversions\n",
    "print(local_firehazard_gdf.crs)\n",
    "print(state_firehazard_gdf.crs)\n",
    "\n",
    "# TODO: Reproject to 4326\n",
    "local_firehazard_gdf = local_firehazard_gdf.to_crs('epsg:4326')\n",
    "state_firehazard_gdf = state_firehazard_gdf.to_crs('epsg:4326')"
   ]
  },
  {
   "cell_type": "markdown",
   "metadata": {},
   "source": [
    "We want to filter both for \"Very High Fire Hazard\". Start by printing the unique values for \"HAZ_CLASS\", and then filter by the appropriate one. Also, since for our purposes we do not care about responsibility, let's union both of the geometries into one GeoDataFrame and write it out to `data/processed/highfirehazard_wgs84.geojson`."
   ]
  },
  {
   "cell_type": "code",
   "execution_count": 23,
   "metadata": {},
   "outputs": [
    {
     "name": "stdout",
     "output_type": "stream",
     "text": [
      "['Moderate' 'High' 'Very High']\n",
      "['Very High']\n"
     ]
    }
   ],
   "source": [
    "# Print unique values for HAZ_CLASS for each\n",
    "print(state_firehazard_gdf.HAZ_CLASS.unique())\n",
    "print(local_firehazard_gdf.HAZ_CLASS.unique())"
   ]
  },
  {
   "cell_type": "markdown",
   "metadata": {},
   "source": [
    "*Two cells easier here*"
   ]
  },
  {
   "cell_type": "code",
   "execution_count": 24,
   "metadata": {},
   "outputs": [
    {
     "name": "stdout",
     "output_type": "stream",
     "text": [
      "There were 1234 records in the pre-filtered state firehazard gdf.\n",
      "There are 981 records in the post-filtered state firehazard gdf.\n",
      "There are 161 records in the local firehazard gdf.\n",
      "The record count of the concat of both GDFs is 1395.\n"
     ]
    }
   ],
   "source": [
    "# TODO: Filter for the appropriate HAZ Class\n",
    "state_highfirehazard_gdf = state_firehazard_gdf[state_firehazard_gdf['HAZ_CLASS'] == 'Very High']\n",
    "\n",
    "# Print Record Counts\n",
    "print(f'There were {len(state_firehazard_gdf)} records in the pre-filtered state firehazard gdf.')\n",
    "print(f'There are {len(state_highfirehazard_gdf)} records in the post-filtered state firehazard gdf.')\n",
    "print(f'There are {len(local_firehazard_gdf)} records in the local firehazard gdf.')\n",
    "\n",
    "# TODO: Concatenate both GDFs\n",
    "gdf_list = [local_firehazard_gdf, state_firehazard_gdf]\n",
    "lacounty_highfirehazard_gdf = pd.concat(gdf_list)\n",
    "\n",
    "# Confirm that record count total = record count gdf1 + record count gdf2\n",
    "print(f'The record count of the concat of both GDFs is {len(lacounty_highfirehazard_gdf)}.')\n",
    "\n",
    "# TODO: Write out to data/processed\n"
   ]
  },
  {
   "cell_type": "code",
   "execution_count": 25,
   "metadata": {},
   "outputs": [
    {
     "data": {
      "text/plain": [
       "geopandas.geodataframe.GeoDataFrame"
      ]
     },
     "execution_count": 25,
     "metadata": {},
     "output_type": "execute_result"
    }
   ],
   "source": [
    "type(lacounty_highfirehazard_gdf)"
   ]
  },
  {
   "cell_type": "code",
   "execution_count": 26,
   "metadata": {},
   "outputs": [
    {
     "data": {
      "text/plain": [
       "<Geographic 2D CRS: EPSG:4326>\n",
       "Name: WGS 84\n",
       "Axis Info [ellipsoidal]:\n",
       "- Lat[north]: Geodetic latitude (degree)\n",
       "- Lon[east]: Geodetic longitude (degree)\n",
       "Area of Use:\n",
       "- name: World\n",
       "- bounds: (-180.0, -90.0, 180.0, 90.0)\n",
       "Datum: World Geodetic System 1984\n",
       "- Ellipsoid: WGS 84\n",
       "- Prime Meridian: Greenwich"
      ]
     },
     "execution_count": 26,
     "metadata": {},
     "output_type": "execute_result"
    }
   ],
   "source": [
    "lacounty_highfirehazard_gdf.crs"
   ]
  },
  {
   "cell_type": "markdown",
   "metadata": {},
   "source": [
    "Let's go ahead and make a map to view the geometries we just created using the `ipyleaflet` library as we did earlier with the jobs-rich areas."
   ]
  },
  {
   "cell_type": "code",
   "execution_count": 27,
   "metadata": {},
   "outputs": [
    {
     "data": {
      "application/vnd.jupyter.widget-view+json": {
       "model_id": "1cafa9aad0214155b4b7d2d01478ac16",
       "version_major": 2,
       "version_minor": 0
      },
      "text/plain": [
       "Map(center=[34, -118], controls=(ZoomControl(options=['position', 'zoom_in_text', 'zoom_in_title', 'zoom_out_t…"
      ]
     },
     "metadata": {},
     "output_type": "display_data"
    }
   ],
   "source": [
    "# TODO: Create a new map object and add your filtered GDF (or reuse the one before)\n",
    "#       and keep testing until you get the right set of filters on your data.\n",
    "m3 = Map(center=(34, -118), zoom = 10, basemap= basemaps.Esri.WorldTopoMap)\n",
    "\n",
    "hazard_gd = GeoData(geo_dataframe = lacounty_highfirehazard_gdf,\n",
    "                   style={'color': 'black', 'fillColor': 'red', 'opacity':0.5, 'weight':1.9, 'dashArray':'2', 'fillOpacity':0.3},\n",
    "                   hover_style={'fillColor': 'red' , 'fillOpacity': 0.2},\n",
    "                   name = 'Jobs')\n",
    "\n",
    "# Add the GeoData Object as Map Layer\n",
    "m3.add_layer(hazard_gd)\n",
    "\n",
    "m3"
   ]
  },
  {
   "cell_type": "markdown",
   "metadata": {},
   "source": [
    "### To Be Continued...\n",
    "We've now processed the transportation and non-tranpsortation criteria for consideration of SB50. In the next part, we will begin putting these pieces together. Stay tuned."
   ]
  }
 ],
 "metadata": {
  "kernelspec": {
   "display_name": "Python 3",
   "language": "python",
   "name": "python3"
  },
  "language_info": {
   "codemirror_mode": {
    "name": "ipython",
    "version": 3
   },
   "file_extension": ".py",
   "mimetype": "text/x-python",
   "name": "python",
   "nbconvert_exporter": "python",
   "pygments_lexer": "ipython3",
   "version": "3.8.2"
  }
 },
 "nbformat": 4,
 "nbformat_minor": 2
}
