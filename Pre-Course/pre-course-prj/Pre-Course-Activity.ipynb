{
 "cells": [
  {
   "cell_type": "markdown",
   "metadata": {},
   "source": [
    "# UCLA ITS Data Camp, Pre-Course Exercise\n",
    "## Getting Data\n",
    "By now you should have a good understanding of the basics of the Python programming language and be familiar with the following concepts:\n",
    "- Core Object Types\n",
    "- Variables\n",
    "- Loops\n",
    "- Conditionals\n",
    "- Basic Functions\n",
    "- Data Structures (lists, dictionaries, etc)\n",
    "\n",
    "For the first activity, we will use this knowledge to practice the first step in any data project: acquiring data."
   ]
  },
  {
   "cell_type": "markdown",
   "metadata": {},
   "source": [
    "### Course Exercise Format\n",
    "Course **lectures** will consist of complete notebooks that we step through together as a class to understand how different inputs produce different outputs. Course **exercises** will consist of incomplete notebooks that you will complete on your own (you may ask others / myself for hints if you get stumped). \n",
    "\n",
    "The part of each exercise that needs to be completed will be marked with a `TODO` comment. If there is no `TODO`, then you should be able to run the cell without making any changes. For example, in the first code cell below, you will see that the csv library has already been imported for you; there is no `TODO` above the `import` line. However, the `TODO` two lines below specifies that you will need to complete the code to import each collision table using the [csv](https://docs.python.org/3/library/csv.html) library."
   ]
  },
  {
   "cell_type": "markdown",
   "metadata": {},
   "source": [
    "### Loading Data from Text Files\n",
    "One of the most common ways to bring data into your project is by reading in plain-text files. Let's practice downloading data and opening it using Python's built-in `csv` module.\n",
    "\n",
    "##### Step 1: Create a Project Directory\n",
    "Create a basic project directory structure, similar to what was described in \"Considerations for Data Projects\", and have this notebook reside in the top-level, like this:\n",
    "\n",
    "```\n",
    "pre-course-prj/                     \n",
    "├── data/                        \n",
    "├── output/                      \n",
    "└── Pre-Course Activity.ipynb    \n",
    "```\n",
    "##### Step 2: Download Collisions from LA City's GeoHub\n",
    "The City of Los Angeles has an Open Data Portal specifically focused on spatial datasets, the GeoHub. As part of the City's initiative to end traffic deaths, called [Vision Zero](http://visionzero.lacity.org/), it recently posted updated data on traffic collisions within City boundaries. \n",
    "\n",
    "1. Go to each of the following links for collision data between 2009 and 2013: [Collisions](http://visionzero.geohub.lacity.org/datasets/ladot::collisions-2009-2013-switrs), [Parties](http://visionzero.geohub.lacity.org/datasets/ladot::party-tables-collisions-2009-2013-switrs), and [Victims](http://visionzero.geohub.lacity.org/datasets/ladot::victim-tables-collisions-2009-2013-switrs).\n",
    "\n",
    "2. For each data source, click on \"Download\" and then \"Spreadsheet.\"\n",
    "\n",
    "3. Put all three collision layers into the \"data\" folder.\n",
    "\n",
    "##### Step 3: Read-in the Collision Data"
   ]
  },
  {
   "cell_type": "code",
   "execution_count": 1,
   "metadata": {},
   "outputs": [],
   "source": [
    "# Import packages\n",
    "import csv\n",
    "\n",
    "# TODO: Read in collision data (all 3 CSV tables)\n",
    "collisions = csv.reader(open('data/Collisions_20092013_SWITRS.csv'))\n",
    "parties = csv.reader(open('data/Party_Tables__Collisions_20092013_SWITRS.csv'))\n",
    "victims = csv.reader(open('data/Victim_Tables__Collisions_20092013_SWITRS.csv'))"
   ]
  },
  {
   "cell_type": "code",
   "execution_count": 2,
   "metadata": {},
   "outputs": [
    {
     "data": {
      "text/plain": [
       "<_csv.reader at 0x107237668>"
      ]
     },
     "execution_count": 2,
     "metadata": {},
     "output_type": "execute_result"
    }
   ],
   "source": [
    "collisions"
   ]
  },
  {
   "cell_type": "code",
   "execution_count": 3,
   "metadata": {},
   "outputs": [
    {
     "name": "stdout",
     "output_type": "stream",
     "text": [
      "The collision table has 173714 records.\n",
      "The party table has 937672 records.\n",
      "The victim table has 576617 records.\n"
     ]
    }
   ],
   "source": [
    "# TODO: Complete the function to return a record count for each table. Don't count the header row!\n",
    "def record_count(my_list):\n",
    "    return sum(1 for row in my_list) - 1\n",
    "    \n",
    "# Run record_count() on the three tables. Which has the most records?\n",
    "collision_record_ct = record_count(collisions)\n",
    "party_record_ct = record_count(parties)\n",
    "victim_record_ct = record_count(victims)\n",
    "\n",
    "# Print out the results. Which has the most records?\n",
    "print(f\"The collision table has {collision_record_ct} records.\")\n",
    "print(f\"The party table has {party_record_ct} records.\")\n",
    "print(f\"The victim table has {victim_record_ct} records.\")"
   ]
  },
  {
   "cell_type": "markdown",
   "metadata": {},
   "source": [
    "### Loading Data from Python Packages\n",
    "Another method for obtaining data is through Python packages themselves. \n",
    "\n",
    "##### Step 1: Install package (if needed)\n",
    "Let's get [OpenStreetMap](https://www.openstreetmap.org) network data using Geoff Boeing's wonderful [osmnx](https://github.com/gboeing/osmnx) package. However, before we start, we are going to need to install `osmnx` since it is not included in either the Python standard library nor within the Anaconda distribution of Python. Following the instructions from the \"Software Installation\" and from the package's GitHub install page, go ahead and install the package. \n",
    "\n",
    "##### Step 2: Import package within project\n",
    "Although we have installed the python package, we cannot yet use it until we import it within our project's environment. You can confirm the installation is successful by running the cells below to import the package. _A note about importing packages: You only need to import the python package once each time during each Python session. Once you close the notebook (and therefore shut down the python kernel), you will need to import the packages again the next time you start the notebook._\n",
    "\n",
    "##### Step 3: Read Documentation for Specific Functions to download data\n",
    "Once you've imported the package, check the package-specific documentation for how to download data. Let's start by getting some street network files for an area of your choosing by following the example [here](https://github.com/gboeing/osmnx-examples/blob/master/notebooks/02-example-osm-to-shapefile.ipynb). "
   ]
  },
  {
   "cell_type": "code",
   "execution_count": 4,
   "metadata": {},
   "outputs": [],
   "source": [
    "# TODO: Import the newly-installed osmnx package\n",
    "import osmnx as ox\n",
    "\n",
    "# TODO: Get some amount of data\n",
    "place = 'Culver City, California, USA'\n",
    "gdf = ox.gdf_from_place(place)"
   ]
  },
  {
   "cell_type": "code",
   "execution_count": 5,
   "metadata": {},
   "outputs": [
    {
     "data": {
      "image/svg+xml": [
       "<svg xmlns=\"http://www.w3.org/2000/svg\" xmlns:xlink=\"http://www.w3.org/1999/xlink\" width=\"100.0\" height=\"100.0\" viewBox=\"-118.451433224 33.973623675999995 0.08490754799998967 0.06461944800000907\" preserveAspectRatio=\"xMinYMin meet\"><g transform=\"matrix(1,0,0,-1,0,68.0118668)\"><path fill-rule=\"evenodd\" fill=\"#66cc99\" stroke=\"#555555\" stroke-width=\"0.0016981509599997935\" opacity=\"0.6\" d=\"M -118.4482885,33.9933196 L -118.4480643,33.9928285 L -118.4477885,33.9923064 L -118.4472628,33.9911642 L -118.4468154,33.9904721 L -118.4421044,33.9930082 L -118.441893,33.9928579 L -118.4391887,33.9942518 L -118.4388774,33.9944904 L -118.4380694,33.9948944 L -118.4372674,33.9952944 L -118.4372404,33.9952714 L -118.4359124,33.9941934 L -118.4351794,33.9935994 L -118.4351504,33.9935754 L -118.4341374,33.9927544 L -118.4332104,33.9920024 L -118.4325914,33.9914994 L -118.4325564,33.9914714 L -118.4325394,33.9914474 L -118.4324104,33.9912644 L -118.4322974,33.9911034 L -118.4311809,33.989551 L -118.4309674,33.9892104 L -118.4298104,33.9897744 L -118.4299104,33.9898534 L -118.4302754,33.9901434 L -118.4302914,33.9902524 L -118.4303924,33.9909354 L -118.4304674,33.9914474 L -118.4306114,33.9924284 L -118.4308804,33.9942534 L -118.4311874,33.9963354 L -118.4311944,33.9963824 L -118.4311954,33.9963994 L -118.4303374,33.9964304 L -118.4301404,33.9964464 L -118.4290994,33.9965294 L -118.4285304,33.9965744 L -118.4281314,33.9966174 L -118.4267084,33.9967724 L -118.4252834,33.9969274 L -118.4237994,33.9970894 L -118.421999,33.9972328 L -118.4207839,33.9973151 L -118.4199568,33.997373 L -118.4192711,33.9976842 L -118.4179998,33.9992252 L -118.4175244,33.9996244 L -118.4174944,33.9996444 L -118.4174244,33.9996904 L -118.4172884,33.9997784 L -118.416927,33.9996772 L -118.4165174,34.0002794 L -118.4161514,34.0005174 L -118.4161934,34.0005354 L -118.4158554,34.0011494 L -118.4153924,34.0019784 L -118.4153684,34.0020204 L -118.4147134,34.0032084 L -118.4144534,34.0036804 L -118.4143244,34.0034514 L -118.4127444,34.0024384 L -118.4123694,34.0021984 L -118.4097304,34.0005064 L -118.4095794,34.0007014 L -118.4094424,34.0008784 L -118.4091704,34.0012304 L -118.4089154,34.0010724 L -118.4084814,34.0008034 L -118.4076464,34.0002874 L -118.4068124,33.9997724 L -118.4059824,33.9992544 L -118.4058104,33.9994594 L -118.4057234,33.9995624 L -118.4053174,34.0001054 L -118.4052664,34.0002274 L -118.4043464,34.0014724 L -118.4034414,34.0026984 L -118.4030664,34.0032054 L -118.4028614,34.0034834 L -118.4028084,34.0034484 L -118.4022534,34.0031374 L -118.4010034,34.0024374 L -118.4007454,34.0023264 L -118.4004514,34.0021614 L -118.4003604,34.0021104 L -118.4002684,34.0020584 L -118.4003234,34.0019094 L -118.4003484,34.0018514 L -118.4004084,34.0017104 L -118.4005184,34.0014534 L -118.4005414,34.0014544 L -118.4006374,34.0014504 L -118.4007564,34.0014474 L -118.4008514,34.0012384 L -118.4010554,34.0006384 L -118.4012644,34.0000304 L -118.4012834,34.0000074 L -118.4013324,33.9999164 L -118.4013434,33.9998874 L -118.4013654,33.9998264 L -118.4013784,33.9998044 L -118.4013254,33.9997744 L -118.4012734,33.9997454 L -118.4013074,33.9996824 L -118.4013814,33.9995234 L -118.4018014,33.9987544 L -118.4018544,33.9986584 L -118.4021784,33.9980654 L -118.4028824,33.9968174 L -118.4030784,33.9964424 L -118.4031164,33.9963314 L -118.4031204,33.9963234 L -118.4032114,33.9962384 L -118.4033034,33.9961544 L -118.4034014,33.9960644 L -118.4035464,33.9958204 L -118.4037874,33.9954294 L -118.4038254,33.9953484 L -118.4040694,33.9951974 L -118.4042054,33.9951124 L -118.4042824,33.9950774 L -118.4045314,33.9948344 L -118.4046014,33.9947634 L -118.4047504,33.9946124 L -118.4050604,33.9942984 L -118.4053054,33.9939664 L -118.4054684,33.9937794 L -118.4056114,33.9936154 L -118.4059634,33.9932964 L -118.4059814,33.9932964 L -118.4060954,33.9932974 L -118.4061464,33.9931664 L -118.4061714,33.9931014 L -118.4062171,33.993041 L -118.4063104,33.9929974 L -118.4063634,33.9929964 L -118.4065094,33.9929934 L -118.4067714,33.9928004 L -118.4070264,33.9926414 L -118.4075414,33.9923494 L -118.4076904,33.9922654 L -118.4078834,33.9921564 L -118.4079494,33.9921354 L -118.4079094,33.9921134 L -118.4078734,33.9920874 L -118.4078364,33.9920704 L -118.4078024,33.9920494 L -118.4070604,33.9916244 L -118.4052424,33.9905194 L -118.4057664,33.9899734 L -118.4062334,33.9894864 L -118.4062964,33.9894224 L -118.4062014,33.9893644 L -118.4054024,33.9888784 L -118.4047264,33.9884674 L -118.4045444,33.9883574 L -118.4041624,33.9881254 L -118.4039354,33.9879864 L -118.4030684,33.9874594 L -118.4029924,33.9874134 L -118.4021904,33.9869254 L -118.4017013,33.9866617 L -118.4013324,33.9864044 L -118.4001124,33.9871804 L -118.3998244,33.9873624 L -118.3995894,33.9875104 L -118.3995344,33.9875454 L -118.3992814,33.9877054 L -118.3991094,33.9878144 L -118.3990714,33.9878374 L -118.3988544,33.9879754 L -118.3987304,33.9878064 L -118.3985764,33.9876334 L -118.3983814,33.9876154 L -118.3981574,33.9873684 L -118.3971634,33.9862744 L -118.3967374,33.9858044 L -118.3966274,33.9856984 L -118.3965934,33.9856504 L -118.3963664,33.9854004 L -118.3959444,33.9849314 L -118.3959414,33.9848444 L -118.3958644,33.9846144 L -118.3957714,33.9843844 L -118.3955984,33.9841664 L -118.3953664,33.9839324 L -118.3952094,33.9838674 L -118.3951784,33.9838364 L -118.3956554,33.9837464 L -118.3958654,33.9837064 L -118.3961274,33.9836564 L -118.3963674,33.9836114 L -118.3984564,33.9832234 L -118.3985564,33.9831964 L -118.3976624,33.9822084 L -118.3977284,33.9821114 L -118.3977434,33.9820884 L -118.3947514,33.9806844 L -118.3931564,33.9799354 L -118.3931424,33.9799604 L -118.3927214,33.9797624 L -118.3925334,33.9796544 L -118.3911594,33.9786514 L -118.3874682,33.9771283 L -118.3868124,33.9767684 L -118.3866454,33.9771784 L -118.3863364,33.9776194 L -118.3860614,33.9779934 L -118.3858814,33.9783094 L -118.3857444,33.9785814 L -118.3854594,33.9785184 L -118.3845984,33.9784874 L -118.3828404,33.9817724 L -118.3824784,33.9823844 L -118.3801144,33.9863984 L -118.3794094,33.9875974 L -118.3789304,33.9885374 L -118.3787404,33.9890084 L -118.3788414,33.9907984 L -118.3788604,33.9910264 L -118.3788924,33.9914104 L -118.3790034,33.9927304 L -118.3825992,33.991011 L -118.382625,33.9903705 L -118.3826078,33.9892034 L -118.3828114,33.9889684 L -118.3836144,33.9889624 L -118.3847064,33.9889544 L -118.3865184,33.9889344 L -118.3867994,33.9889364 L -118.3868724,33.9889374 L -118.3869594,33.9889384 L -118.3874744,33.9889434 L -118.3879704,33.9889324 L -118.3880834,33.9889304 L -118.3881004,33.9889294 L -118.3879293,33.989118 L -118.3871564,33.9896314 L -118.3866984,33.9899654 L -118.3861024,33.9903984 L -118.3846854,33.9914574 L -118.3839594,33.9919934 L -118.3835034,33.9923304 L -118.3838644,33.9925034 L -118.3853804,33.9932314 L -118.3859874,33.9935224 L -118.3859654,33.9935954 L -118.3851024,33.9964524 L -118.3839024,33.9961184 L -118.3831224,33.9986574 L -118.3829304,33.9993034 L -118.3828034,33.9997304 L -118.3825034,34.0003304 L -118.3844764,34.0005584 L -118.3887164,34.0012204 L -118.3904614,34.0016724 L -118.3906444,34.0017554 L -118.3908164,34.0019584 L -118.3908354,34.0020324 L -118.3906194,34.0022784 L -118.3904844,34.0024624 L -118.3902924,34.0028234 L -118.3902234,34.0029534 L -118.3897914,34.0038834 L -118.3894954,34.0045194 L -118.3892514,34.0050414 L -118.3889324,34.0057254 L -118.3884114,34.0068704 L -118.3882114,34.0072974 L -118.3880664,34.0076084 L -118.3880274,34.0076964 L -118.3878424,34.0081114 L -118.3878024,34.0082004 L -118.3879144,34.0085874 L -118.3877594,34.0088184 L -118.3876704,34.0092804 L -118.3876034,34.0096864 L -118.3844224,34.0125044 L -118.3808584,34.0116924 L -118.3796104,34.0114344 L -118.3786904,34.0119514 L -118.3739874,34.0119334 L -118.3736194,34.0119324 L -118.3733174,34.0119314 L -118.3731864,34.0119314 L -118.3732944,34.0122424 L -118.3733914,34.0124614 L -118.3736054,34.0129054 L -118.3736604,34.0130294 L -118.3738954,34.0135464 L -118.3739494,34.0136814 L -118.3740194,34.0138854 L -118.3740924,34.0141634 L -118.3741204,34.0143034 L -118.3741504,34.0145144 L -118.3741684,34.0147274 L -118.3741724,34.0148694 L -118.3741634,34.0151524 L -118.3741494,34.0152944 L -118.3741044,34.0155754 L -118.3740724,34.0157154 L -118.3740354,34.0158534 L -118.3739924,34.0159914 L -118.3739444,34.0161274 L -118.3739264,34.0161684 L -118.3738294,34.0163944 L -118.3737294,34.0165904 L -118.3734604,34.0170804 L -118.3728924,34.0181144 L -118.3727934,34.0183174 L -118.3727204,34.0184894 L -118.3729064,34.0183814 L -118.3734104,34.0184075 L -118.3752194,34.018501 L -118.3752434,34.0185022 L -118.3758854,34.0185354 L -118.3759844,34.0185384 L -118.3759814,34.0184824 L -118.3759674,34.0182474 L -118.3759374,34.0181984 L -118.3759254,34.0180684 L -118.3759474,34.0180674 L -118.3761614,34.0180534 L -118.3767024,34.0180404 L -118.3768604,34.0180364 L -118.3776004,34.0180074 L -118.3776604,34.0179924 L -118.3777194,34.0179484 L -118.3780664,34.0180364 L -118.3780584,34.0180874 L -118.3790784,34.0193254 L -118.3793054,34.0195864 L -118.3801154,34.0202924 L -118.3805764,34.0208544 L -118.3797754,34.0209804 L -118.3789544,34.0211164 L -118.3784284,34.0211994 L -118.3784924,34.0213294 L -118.3786904,34.0217444 L -118.3787074,34.0217794 L -118.3787264,34.0218194 L -118.3788434,34.0220654 L -118.3772304,34.0234624 L -118.3771594,34.0235234 L -118.3770774,34.0237034 L -118.3770484,34.0237664 L -118.3769314,34.0238614 L -118.3767904,34.0240064 L -118.3764846,34.0258926 L -118.3769505,34.0261687 L -118.3770953,34.0262297 L -118.3770163,34.0266902 L -118.376948,34.0269727 L -118.3769,34.0269708 L -118.3762242,34.0286026 L -118.3749624,34.0295892 L -118.3737364,34.0304394 L -118.3719944,34.0299474 L -118.3718964,34.0301644 L -118.3709565,34.0320149 L -118.3708604,34.0324604 L -118.3706574,34.0329104 L -118.3699974,34.0343714 L -118.3697494,34.0349274 L -118.3696704,34.0350984 L -118.3750014,34.0328574 L -118.3752774,34.0327424 L -118.3753254,34.0327224 L -118.3753774,34.0327004 L -118.3760124,34.0324354 L -118.3763024,34.0323574 L -118.3764624,34.0323144 L -118.3777844,34.0319594 L -118.3788134,34.0316834 L -118.3789994,34.0316334 L -118.3797864,34.0314254 L -118.3806954,34.0311854 L -118.3816154,34.0309414 L -118.3825274,34.0307004 L -118.3834134,34.0304664 L -118.3842994,34.0302324 L -118.3843664,34.0301924 L -118.3857894,34.0293414 L -118.3859994,34.0292164 L -118.3864894,34.0289234 L -118.3867554,34.0292254 L -118.3868924,34.0291474 L -118.3870684,34.0292764 L -118.3872644,34.0294184 L -118.3878534,34.0290824 L -118.3882474,34.0288574 L -118.3892084,34.0283034 L -118.3894864,34.0281424 L -118.3900004,34.0278534 L -118.3900734,34.0278094 L -118.3904644,34.0275814 L -118.3910744,34.0272324 L -118.3916374,34.0269114 L -118.3927154,34.0262964 L -118.3927114,34.0262384 L -118.3928184,34.0260374 L -118.3930244,34.0255394 L -118.3931174,34.0256214 L -118.3934354,34.0255304 L -118.3935394,34.0253894 L -118.3935724,34.0254044 L -118.3937304,34.0254754 L -118.3938964,34.0255504 L -118.3940304,34.0257244 L -118.3942904,34.0255774 L -118.3941554,34.0254034 L -118.3941774,34.0253284 L -118.3943794,34.0252104 L -118.3944144,34.0252554 L -118.3946874,34.0251004 L -118.3947994,34.0250204 L -118.3949024,34.0249474 L -118.3956394,34.0245284 L -118.3957444,34.0245104 L -118.3958474,34.0244934 L -118.3966664,34.0240284 L -118.3971434,34.0237574 L -118.3970994,34.0236994 L -118.3975774,34.0234274 L -118.3984434,34.0229354 L -118.3975744,34.0218074 L -118.3976284,34.0217564 L -118.3975944,34.0217234 L -118.3975484,34.0216804 L -118.3982874,34.0212394 L -118.3988894,34.0208804 L -118.3989514,34.0208444 L -118.3990244,34.0208024 L -118.3990924,34.0208664 L -118.3991944,34.0208054 L -118.3995854,34.0213124 L -118.4002444,34.0209344 L -118.4003424,34.0208784 L -118.4006444,34.0212694 L -118.4005674,34.0213164 L -118.4007014,34.0214904 L -118.4013784,34.0211054 L -118.4005354,34.0200114 L -118.4006094,34.0199674 L -118.4005694,34.0199154 L -118.4007744,34.0197974 L -118.4012854,34.0194794 L -118.4018844,34.0191064 L -118.4025114,34.0187164 L -118.4026074,34.0186594 L -118.4031504,34.0183384 L -118.4034954,34.0181354 L -118.4036174,34.0180624 L -118.4038834,34.0179034 L -118.4041084,34.0177694 L -118.4046214,34.0174764 L -118.4047494,34.0174024 L -118.4050934,34.0171954 L -118.4053154,34.0170444 L -118.4055534,34.0168724 L -118.4056304,34.0169284 L -118.4056674,34.0169644 L -118.4058124,34.0171064 L -118.4069574,34.0185924 L -118.4070114,34.0185614 L -118.4081794,34.0178954 L -118.4088684,34.0175024 L -118.4088854,34.0174934 L -118.4095914,34.0170904 L -118.4096054,34.0170824 L -118.4102144,34.0167374 L -118.4109284,34.0163704 L -118.4109434,34.0163624 L -118.4118554,34.0158504 L -118.4118704,34.0158424 L -118.4128554,34.0152814 L -118.4138224,34.0147284 L -118.4138424,34.0147174 L -118.4148034,34.0141674 L -118.4153014,34.0138824 L -118.4158104,34.0135924 L -118.4158244,34.0135844 L -118.4171874,34.0128064 L -118.4180334,34.0122944 L -118.4183284,34.0121274 L -118.4185044,34.0120284 L -118.4188224,34.0118484 L -118.4188594,34.0118274 L -118.4197214,34.0113374 L -118.4206194,34.0108374 L -118.4206474,34.0108214 L -118.4214224,34.0103884 L -118.4215044,34.0103424 L -118.4201784,34.0086634 L -118.4197154,34.0089174 L -118.4194014,34.0090804 L -118.4193234,34.0091214 L -118.4190894,34.0088314 L -118.4180834,34.0075824 L -118.4177194,34.0071274 L -118.4174754,34.0068204 L -118.4174374,34.0067674 L -118.4175314,34.0067114 L -118.4178824,34.0065054 L -118.4182864,34.0062674 L -118.4185744,34.0060974 L -118.4191224,34.0057754 L -118.4198674,34.0053274 L -118.4204514,34.0049764 L -118.4206114,34.0048804 L -118.4213424,34.0044404 L -118.4210744,34.0041014 L -118.420977,34.0040605 L -118.4197984,34.0024854 L -118.4184484,34.0007764 L -118.4182817,34.0005677 L -118.4187704,34.0003644 L -118.4192174,34.0000864 L -118.4192714,34.0000524 L -118.4201454,33.9989834 L -118.4203254,33.9988514 L -118.4204934,33.9987064 L -118.4205774,33.9986884 L -118.4217934,33.9985554 L -118.4228554,33.9984404 L -118.4259814,33.9980994 L -118.4260734,33.9980884 L -118.4266034,33.9987504 L -118.4267364,33.9989314 L -118.4269354,33.9992044 L -118.4270084,33.9993194 L -118.4275224,34.0000064 L -118.4276554,34.0001564 L -118.4277204,34.0002324 L -118.4280084,34.0006184 L -118.4280434,34.0006664 L -118.4282954,34.0010044 L -118.4285274,34.0012934 L -118.4285824,34.0013624 L -118.4290824,34.0010974 L -118.4293734,34.0009434 L -118.4297644,34.0007344 L -118.4297123,34.0007097 L -118.4304954,34.0003464 L -118.4309294,34.0001204 L -118.4306214,33.9997164 L -118.4305564,33.9996344 L -118.4304204,33.9994644 L -118.4307474,33.9993124 L -118.4312954,33.9990284 L -118.4316874,33.9988244 L -118.4320514,33.9986384 L -118.4327994,33.9982564 L -118.4328504,33.9982314 L -118.4335934,33.9978654 L -118.4336944,33.9978124 L -118.4348134,33.9972244 L -118.4354004,33.9969174 L -118.4359392,33.996918 L -118.4368494,33.9964634 L -118.4371664,33.9963084 L -118.4372164,33.9962844 L -118.4375164,33.9961304 L -118.4376914,33.9960434 L -118.4385194,33.9956304 L -118.4393334,33.9952234 L -118.4401544,33.9948134 L -118.4409804,33.9944014 L -118.4417914,33.9939964 L -118.4425504,33.9936174 L -118.4433564,33.9952747 L -118.4438113,33.9949164 L -118.4439497,33.994822 L -118.4446503,33.9943345 L -118.4461352,33.993904 L -118.4472585,33.9936327 L -118.4482885,33.9933196 z\" /></g></svg>"
      ],
      "text/plain": [
       "<shapely.geometry.polygon.Polygon at 0x116cf3b00>"
      ]
     },
     "execution_count": 5,
     "metadata": {},
     "output_type": "execute_result"
    }
   ],
   "source": [
    "gdf.loc[0, 'geometry']"
   ]
  },
  {
   "cell_type": "code",
   "execution_count": 6,
   "metadata": {},
   "outputs": [],
   "source": [
    "G = ox.graph_from_place(place, network_type='drive')\n",
    "G_projected = ox.project_graph(G)"
   ]
  },
  {
   "cell_type": "markdown",
   "metadata": {},
   "source": [
    "##### Step 4. Export as a shapefile to the 'output' project directory\n",
    "The Shapefile format is one of the most common data formats for storing GIS data. Developed by ESRI, it is actually a collection of different files (usually about six) that contain the vector data, attribute infomation, projection, and other data. Take a look at [this notebook](https://github.com/gboeing/osmnx-examples/blob/master/notebooks/05-example-save-load-networks-shapes.ipynb) for an example of how to export data from osmnx to the Shapefile format for storage. Export the data you downloaded into the 'output' folder."
   ]
  },
  {
   "cell_type": "code",
   "execution_count": 7,
   "metadata": {},
   "outputs": [],
   "source": [
    "# TODO: Export to disk as a shapefile into the 'output' folder\n",
    "ox.save_graph_shapefile(G_projected, filename='../output/network-shape')"
   ]
  },
  {
   "cell_type": "markdown",
   "metadata": {},
   "source": [
    "##### Step 5. Confirm that you exported the shapefile correctly\n",
    "There is an excellent website for quickly checking spatial data called [mapshaper](https://mapshaper.org/). If your file is not too big, try to view it here. Either drop your .shp file into the browser or use the file navigator in the window to point to your 'output' folder. "
   ]
  },
  {
   "cell_type": "code",
   "execution_count": null,
   "metadata": {},
   "outputs": [],
   "source": []
  }
 ],
 "metadata": {
  "kernelspec": {
   "display_name": "Python 3",
   "language": "python",
   "name": "python3"
  },
  "language_info": {
   "codemirror_mode": {
    "name": "ipython",
    "version": 3
   },
   "file_extension": ".py",
   "mimetype": "text/x-python",
   "name": "python",
   "nbconvert_exporter": "python",
   "pygments_lexer": "ipython3",
   "version": "3.7.3"
  }
 },
 "nbformat": 4,
 "nbformat_minor": 2
}
